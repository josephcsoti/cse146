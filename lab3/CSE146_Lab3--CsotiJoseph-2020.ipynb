{
 "cells": [
  {
   "cell_type": "markdown",
   "metadata": {},
   "source": [
    "# CSE 146 Lab 3: Algorithmic Fairness\n",
    "\n",
    "### ASSIGNED: February 20, 2020\n",
    "### DUE: March 3, 2020\n",
    "\n",
    "In this homework, you will gain experience with tools for implementing classifiers that provide fairness guarantees. In part 2, you will try to get a fair classifier if you only have access to a normal classifier. In parts 3 and 4, you will get to explore the different outcomes when using different definitions of fairness for classifiers. You will also look at the tradeoffs between fairness and accuracy. \n",
    "\n",
    "All cells where code is required are marked with a \"YOUR CODE HERE\" comment. The point values for each code block are written in the header for the associated subsection.\n"
   ]
  },
  {
   "cell_type": "markdown",
   "metadata": {},
   "source": [
    "## Instructions \n",
    "For each question, you should write python code to compute the answer to the questions that renders in a readable way according to the specifications of the question. You may only use the packages provided in the Background and Setup code. We will not be installing any packages during grading, and code that does not compile will negatively affect your grade.\n",
    "\n",
    "This assignment is to be done <b>on your own</b>. You may discuss the assignment with your classmates, but do not share code or solutions. List the students you discussed the assignment with in the space provided below. You may visit any of the TAs in their office hours or ask questions on Piazza.\n",
    "\n",
    "Be sure to rename this homework notebook so that it includes your last name. \n",
    "\n",
    "### List any students you talked with about this assignment here:\n",
    "1. [person 1]\n",
    "2. [person 2]\n",
    "3. etc."
   ]
  },
  {
   "cell_type": "markdown",
   "metadata": {},
   "source": [
    "## Part 1: Importing Data (5 Points)\n",
    "Before working with the algorithms for fair classification, we must first import the dataset we wish to use. We will again be working with the \"Communities and Crime\" dataset from [UC Irvine's Machine Learning Repository](http://archive.ics.uci.edu/ml/datasets/communities+and+crime). It includes data about the different types of crimes among various communities, socioeconomic and racial data about each community, and information about the police force in each community.\n",
    "\n",
    "The algorithms will require that your data is split into 3 DataFrames:\n",
    "\n",
    "- `dataX`: The features of each instance, not including any protected attributes\n",
    "- `dataA`: The protected attributes of each instance\n",
    "- `dataY`: The label for each instance\n",
    "\n",
    "Currently, we provide you with 2 CSV files:\n",
    "\n",
    "- `communities.csv`, which contains all information for each instance\n",
    "- `communities_protected.csv`, which labels each column as 1 if the attribute is a protected feature, 2 if the attribute is the value to be predicted, and 0 otherwise. In part 2, we will focus on only one of the sensitive features. In parts 3 and 4, we will use all 18 sensitive features for upholding our fairness metrics.\n",
    "\n",
    "Write code to generate the 3 Pandas DataFrames, `dataX`, `dataA` and `dataY`. "
   ]
  },
  {
   "cell_type": "code",
   "execution_count": 31,
   "metadata": {},
   "outputs": [
    {
     "name": "stdout",
     "output_type": "stream",
     "text": "The autoreload extension is already loaded. To reload it, use:\n  %reload_ext autoreload\n"
    }
   ],
   "source": [
    "%load_ext autoreload\n",
    "%autoreload 2"
   ]
  },
  {
   "cell_type": "code",
   "execution_count": 32,
   "metadata": {},
   "outputs": [],
   "source": [
    "import pandas as pd # Necessary libraries\n",
    "import numpy as np\n",
    "import warnings # Suppressing warnings\n",
    "warnings.filterwarnings('ignore') "
   ]
  },
  {
   "cell_type": "code",
   "execution_count": 33,
   "metadata": {},
   "outputs": [],
   "source": [
    "df_comm = pd.read_csv(\"communities.csv\")\n",
    "df_comm_p = pd.read_csv(\"communities_protected.csv\")\n",
    "\n",
    "# dataX is the dataframe for communities.csv with columns dropped if column labels in communities_protected.csv is 1 or 2 (so only columns labels with value 0)\n",
    "\n",
    "# dataA is the dataframe for communities.csv with columns dropped if column labels in communities_protected.csv is 0 or 2 (so only columns labels with value 1)\n",
    "\n",
    "# and dataY is the dataframe for communities.csv with columns dropped if column labels in communities_protected.csv is 0 or 1 (so only columns labels with value 2)\n",
    "\n",
    "x_cols = []\n",
    "a_cols = []\n",
    "y_cols = []\n",
    "\n",
    "for col_name, col_data in df_comm_p.iteritems():\n",
    "    v = col_data.values[0]\n",
    "\n",
    "    if(v == 0): x_cols.append(col_name)\n",
    "    if(v == 1): a_cols.append(col_name)\n",
    "    if(v == 2): y_cols.append(col_name)\n",
    "\n",
    "dataX = df_comm[x_cols]\n",
    "dataA = df_comm[a_cols]\n",
    "dataY = df_comm[y_cols]"
   ]
  },
  {
   "cell_type": "code",
   "execution_count": 34,
   "metadata": {},
   "outputs": [
    {
     "name": "stdout",
     "output_type": "stream",
     "text": "dataX Shape: (1994, 104)\ndataA Shape: (1994, 18)\ndataY Shape: (1994, 1)\n"
    }
   ],
   "source": [
    "print('dataX Shape:', dataX.shape)\n",
    "print('dataA Shape:', dataA.shape)\n",
    "print('dataY Shape:', dataY.shape)"
   ]
  },
  {
   "cell_type": "markdown",
   "metadata": {},
   "source": [
    "## Part 2: Two-Group Fairness via Post-processing (35 Points)\n",
    "\n",
    "In this section, you will implement a method of achieving a fair classifier \"from scratch\" by post-processing a generic linear regression classifier. This method is described in depth in https://arxiv.org/abs/1610.02413. \n",
    "\n",
    "You will train a classifier which approximately equalizes both True Positive Rate and False Positive Rate for two groups, which is commonly referred to as the Equalized Odds criterion."
   ]
  },
  {
   "cell_type": "markdown",
   "metadata": {},
   "source": [
    "### 2.1: Training a Real-Valued Predictor (5 points)\n",
    "\n",
    "Fairness postprocessing requires training a model which predicts real-valued scores (such as the estimated probability of a positive label) rather than just predicting 0 or 1. \n",
    "\n",
    "Use the Linear Regression package from SciKit-Learn to train a regression model on dataX and dataY. Generate predictions for dataY (called y_hat_score) and print them.\n",
    "\n",
    "https://scikit-learn.org/stable/modules/generated/sklearn.linear_model.LinearRegression.html"
   ]
  },
  {
   "cell_type": "code",
   "execution_count": 35,
   "metadata": {},
   "outputs": [],
   "source": [
    "from sklearn.linear_model import LinearRegression\n",
    "\n",
    "X_train = dataX.iloc[0:1600, :]\n",
    "X_test = dataX.iloc[1600:, :]\n",
    "Y_train = dataY.iloc[:1600, :]\n",
    "Y_test = dataY.iloc[1600:, :]\n",
    "\n",
    "reg = LinearRegression().fit(X_train, Y_train)\n",
    "y_hat_score = reg.predict(X_test)"
   ]
  },
  {
   "cell_type": "code",
   "execution_count": 36,
   "metadata": {},
   "outputs": [
    {
     "name": "stdout",
     "output_type": "stream",
     "text": "[[-2.66686492e-01]\n [ 9.50559583e-01]\n [ 3.03987067e-01]\n [ 2.85658544e-01]\n [ 3.42498895e-01]\n [ 2.01933255e-01]\n [-1.23232701e-01]\n [ 8.32702197e-01]\n [ 2.03836382e-01]\n [-1.64765828e-02]\n [ 6.88966042e-01]\n [-4.47152291e-03]\n [ 1.12585658e+00]\n [-2.95537245e-01]\n [ 1.48270269e-01]\n [ 1.02958872e-01]\n [-8.99128812e-02]\n [ 4.77100305e-01]\n [ 9.27622958e-02]\n [ 9.02669472e-01]\n [ 2.69867119e-01]\n [ 1.32842942e-01]\n [ 1.56110096e-04]\n [ 5.03417123e-01]\n [ 1.92345825e-01]\n [ 1.00536386e+00]\n [ 5.13310340e-01]\n [-1.31165080e-01]\n [ 3.45663344e-01]\n [ 2.89864946e-02]\n [ 3.78486940e-02]\n [-1.97521187e-01]\n [ 7.57506966e-01]\n [ 1.13869423e+00]\n [ 6.96624348e-02]\n [ 1.37223578e-02]\n [ 5.55238642e-01]\n [ 3.12792336e-01]\n [ 3.54142892e-01]\n [-1.04092294e-01]\n [ 1.66621972e+11]\n [ 4.49057897e-01]\n [ 1.14210724e-02]\n [ 1.00431735e-01]\n [ 7.10197604e-02]\n [ 3.31129774e-01]\n [-8.44210880e-02]\n [ 4.36571422e-01]\n [ 1.49577007e-01]\n [ 2.05774110e-01]\n [ 7.87422414e-02]\n [ 2.00902887e-01]\n [-1.43967378e-01]\n [ 4.09706893e-01]\n [ 1.30365909e-01]\n [ 6.15980387e-01]\n [-4.42979149e-02]\n [ 4.42346306e-02]\n [-1.60374080e-01]\n [-1.23908540e-01]\n [ 2.69808977e-02]\n [ 9.02933032e-01]\n [ 9.43509698e-01]\n [ 3.92834082e-01]\n [ 3.77617646e-01]\n [ 4.82915490e-01]\n [ 1.77722519e-01]\n [ 1.39463907e-01]\n [-2.35615724e-02]\n [ 8.62690472e-01]\n [ 9.73076207e-01]\n [ 2.41977893e-01]\n [-2.54028900e-02]\n [ 9.05331322e-02]\n [ 3.16432954e-01]\n [ 4.48305029e-02]\n [ 8.37024826e-01]\n [ 7.04127559e-01]\n [ 8.18267440e-01]\n [-4.02581384e-02]\n [ 5.41053984e-02]\n [ 2.56583810e-02]\n [-2.53342681e-01]\n [ 1.50831878e-01]\n [ 1.02182386e+00]\n [ 1.56058157e-01]\n [ 5.00871427e-01]\n [-9.57831791e-02]\n [ 6.44094336e-02]\n [ 2.56514498e-01]\n [ 5.80199900e-01]\n [ 2.41900179e-01]\n [ 5.28814294e-01]\n [ 4.20167576e-01]\n [ 8.35338219e-02]\n [ 4.90249488e-01]\n [-3.55808206e-02]\n [ 2.50913160e-02]\n [ 1.51487200e+00]\n [ 6.08697948e-01]\n [ 4.80583877e-01]\n [ 4.74292626e-03]\n [ 1.28903268e-01]\n [ 5.72479986e-01]\n [-5.43257161e-02]\n [ 3.10840067e-02]\n [ 1.41503340e-02]\n [ 7.40155872e-01]\n [-1.23764912e-01]\n [ 2.98400722e-01]\n [ 8.26582171e-01]\n [ 6.26762789e-01]\n [ 2.03102544e-01]\n [ 7.79908374e-02]\n [ 1.73914937e-02]\n [ 1.18354693e-01]\n [ 5.07355701e-01]\n [ 7.77350618e-02]\n [ 6.69636521e-01]\n [ 3.63798053e-01]\n [ 3.93218409e-01]\n [ 1.22198249e+00]\n [-1.25241763e-01]\n [ 2.60156863e-02]\n [ 3.93541523e-01]\n [-9.64900323e-02]\n [ 5.43728986e-01]\n [ 6.97639324e-01]\n [ 4.00235648e-01]\n [ 3.01448620e-01]\n [ 7.19516763e-02]\n [-5.50547037e-02]\n [ 5.32360449e-01]\n [ 1.71744416e-01]\n [ 5.85537233e-02]\n [ 2.18499428e-01]\n [-6.62702737e-02]\n [ 3.12696808e-01]\n [ 2.82447145e-03]\n [ 8.04118754e-02]\n [ 4.18314334e-02]\n [ 1.11913230e-01]\n [ 6.95685736e-01]\n [ 1.40407885e-02]\n [ 2.23260321e-02]\n [-8.42920295e-02]\n [ 1.94849901e-01]\n [ 4.33592265e-01]\n [ 4.94568895e-02]\n [ 7.98356546e-01]\n [ 5.95006821e-02]\n [ 6.47569872e-01]\n [-1.02092343e-02]\n [ 3.75890147e-01]\n [ 4.13001054e-01]\n [ 7.48526578e-02]\n [ 3.39821370e-01]\n [ 7.13574038e-02]\n [-1.04988013e-01]\n [ 9.45719538e-01]\n [ 1.19868345e-01]\n [-8.03983260e-03]\n [-7.56528852e-02]\n [ 3.18763197e-02]\n [ 3.27681831e-01]\n [ 1.91783131e-02]\n [-4.77570192e-02]\n [ 5.15478146e-01]\n [-1.82323680e-02]\n [ 1.48180597e-01]\n [ 6.24332537e-01]\n [ 5.68680678e-02]\n [ 2.59522722e-01]\n [ 7.94777681e-01]\n [ 4.54435433e-01]\n [ 7.33915367e-01]\n [ 2.23734877e-02]\n [ 9.74005092e-01]\n [ 7.01777254e-01]\n [ 4.81007679e-01]\n [ 1.05775576e-01]\n [-1.88035594e-01]\n [-1.89467209e-02]\n [ 5.64608755e-01]\n [ 1.41222829e-01]\n [-1.03960514e-01]\n [ 3.22148770e-02]\n [ 6.10584665e-01]\n [ 5.83837987e-01]\n [ 6.94563030e-01]\n [ 6.78188102e-01]\n [ 6.23561122e-02]\n [ 6.21373168e-01]\n [ 3.51920698e-02]\n [-8.62710938e-02]\n [ 7.74571925e-02]\n [ 1.69863080e-01]\n [ 1.74094702e-01]\n [ 1.45256013e-01]\n [ 1.73285399e-01]\n [ 2.44114801e-01]\n [ 1.18490798e+00]\n [ 2.58233614e-01]\n [ 5.17009140e-01]\n [-1.21569071e-01]\n [ 1.50761427e-01]\n [ 2.10896546e-01]\n [ 5.74175826e-02]\n [ 5.69626291e-01]\n [ 1.11430417e-01]\n [ 9.69142717e-01]\n [ 3.42838618e-01]\n [ 9.32542348e-02]\n [ 3.85736064e-01]\n [ 2.84565151e-02]\n [ 1.23331332e+00]\n [-7.27568114e-02]\n [ 8.08191303e-01]\n [ 5.16914359e-02]\n [ 4.42261791e-01]\n [ 1.97294305e-01]\n [ 3.34555479e-02]\n [ 1.27864941e+00]\n [ 2.30964081e-01]\n [-8.72454883e-02]\n [ 3.65124414e-01]\n [-3.09091079e-02]\n [-4.32300578e-02]\n [ 1.06387087e-01]\n [ 4.46132529e-02]\n [ 1.86433570e-01]\n [ 6.83453686e-01]\n [-1.10289365e-01]\n [-6.09136605e-02]\n [-9.28642553e-02]\n [ 8.74442504e-01]\n [ 1.07341651e+00]\n [ 3.83235560e-01]\n [ 1.04081169e+00]\n [ 1.91401604e-01]\n [ 3.73965792e-01]\n [ 6.91885086e-01]\n [ 8.60800182e-01]\n [ 5.61956825e-01]\n [-1.73304281e-01]\n [ 2.39078969e-01]\n [ 9.99858727e-02]\n [ 7.38738974e-01]\n [ 1.59068571e-02]\n [ 1.23724030e+00]\n [-3.23311099e-03]\n [ 4.48459900e-01]\n [ 4.46995292e-01]\n [ 6.50854463e-02]\n [ 1.22343164e-01]\n [ 3.52141352e-01]\n [ 2.13432148e-01]\n [-5.48327068e-02]\n [ 2.38123200e-01]\n [ 5.82665561e-01]\n [ 3.26884655e-01]\n [ 2.73268361e-01]\n [ 2.96517642e-01]\n [-5.95298940e-02]\n [-1.81955976e-01]\n [ 1.35103361e+00]\n [ 2.71444293e-01]\n [ 1.34862451e-01]\n [-1.59246129e-01]\n [ 1.45846283e-01]\n [ 4.27779131e-01]\n [-3.28341790e-02]\n [ 8.74508483e-01]\n [ 2.41027337e-01]\n [ 3.21606583e-01]\n [ 3.29232572e-01]\n [ 7.14335119e-02]\n [ 2.30584613e-01]\n [ 1.12999302e+00]\n [ 1.32335084e+00]\n [ 2.65647280e-01]\n [-1.16656273e-01]\n [-2.58277491e-02]\n [ 1.68975478e-01]\n [ 4.64218165e-01]\n [ 2.43079748e-04]\n [ 1.41290160e-01]\n [ 5.42536097e-01]\n [ 1.56036730e-01]\n [ 4.74009081e-01]\n [ 1.12633370e-01]\n [ 3.96162208e-01]\n [ 1.88998655e-01]\n [ 3.05121912e-01]\n [ 3.01100664e-02]\n [ 6.69791488e-02]\n [ 1.14317337e-01]\n [-1.19760873e-01]\n [ 1.74667366e-01]\n [-7.45691198e-02]\n [ 8.68096882e-02]\n [ 4.65623173e-02]\n [ 2.82448400e-01]\n [ 2.54169155e-01]\n [ 1.50980872e-02]\n [ 3.84140250e-02]\n [ 1.65314627e-01]\n [ 8.92051144e-01]\n [ 2.35858664e-01]\n [ 3.73321452e-01]\n [ 1.09280045e+00]\n [ 1.07312384e-01]\n [ 8.50983294e-02]\n [ 2.22355118e-01]\n [ 3.13194653e-01]\n [ 5.00617134e-03]\n [ 1.11647620e+00]\n [ 1.48465360e-01]\n [ 4.61069991e-01]\n [ 4.55894015e-01]\n [ 4.18704244e-01]\n [ 3.71682097e-01]\n [ 4.81960553e-01]\n [-2.62080073e-02]\n [ 6.34124785e-02]\n [ 8.46929320e-01]\n [ 1.38373167e-02]\n [-2.99345124e-01]\n [ 2.85345770e-01]\n [ 4.11640591e-02]\n [-4.40897619e-02]\n [ 4.74271080e-02]\n [-4.48571387e-02]\n [-2.22684004e-02]\n [-7.13743167e-02]\n [-1.72619437e-01]\n [-1.14855193e-01]\n [-2.72604784e-03]\n [ 1.81736068e-01]\n [ 1.81103423e-01]\n [ 6.34779750e-01]\n [ 2.94566461e-01]\n [ 3.06258822e-01]\n [ 2.69051433e-01]\n [ 7.88423446e-02]\n [ 2.31670727e-01]\n [ 3.87918417e-01]\n [-1.44473070e-01]\n [ 4.67907896e-02]\n [ 5.25065928e-01]\n [ 7.68592434e-02]\n [ 1.81885804e-01]\n [ 3.14444168e-02]\n [ 8.60122735e-02]\n [ 8.52570441e-01]\n [-4.32971833e-03]\n [ 5.20725311e-01]\n [ 7.77738893e-01]\n [ 3.00986736e-01]\n [ 2.45714880e-01]\n [ 1.63247545e-01]\n [ 2.21567510e-01]\n [ 5.37897385e-01]\n [ 9.41007866e-01]\n [ 5.41872474e-01]\n [ 6.43289540e-01]\n [ 3.71453574e-01]\n [-1.60060175e-01]\n [ 5.66246997e-01]\n [ 1.02841076e+00]\n [ 4.42438097e-01]\n [ 2.76906210e-01]\n [ 4.23750584e-01]\n [-3.91587088e-02]\n [ 7.46286975e-01]\n [ 4.58641878e-02]\n [ 8.25582690e-03]\n [ 1.82440549e-01]\n [-5.18425313e-02]\n [ 1.34983321e-01]\n [ 2.81284742e-01]\n [ 1.21836343e-01]\n [-1.75295253e-01]\n [ 5.65570395e-01]\n [ 3.19122563e-02]\n [ 4.94571938e-01]\n [-8.90783268e-02]\n [-4.40297939e-03]\n [ 9.35773123e-01]\n [ 6.78200791e-02]\n [ 7.68715318e-01]\n [ 7.14721765e-01]\n [ 1.27821811e-01]\n [ 7.37310216e-01]]\n"
    }
   ],
   "source": [
    "print(y_hat_score)"
   ]
  },
  {
   "cell_type": "markdown",
   "metadata": {},
   "source": [
    "### 2.2: Binary Classification via Thresholding (5 points)\n",
    "\n",
    "Write a function (threshold_predictions) which takes in a set of predicted scores and a threshold, and converts the scores to 0/1 predictions (below or equal to threshold = 0, above threshold = 1). Print out your converted predictions using a threshold of 0.5."
   ]
  },
  {
   "cell_type": "code",
   "execution_count": 37,
   "metadata": {},
   "outputs": [],
   "source": [
    "def threshold_predictions(y_hat_score, threshold):\n",
    "    return [[ (0 if i<threshold else 1) for i in row] for row in y_hat_score]\n",
    "    "
   ]
  },
  {
   "cell_type": "code",
   "execution_count": 38,
   "metadata": {},
   "outputs": [
    {
     "name": "stdout",
     "output_type": "stream",
     "text": "[[0], [1], [0], [0], [0], [0], [0], [1], [0], [0], [1], [0], [1], [0], [0], [0], [0], [0], [0], [1], [0], [0], [0], [1], [0], [1], [1], [0], [0], [0], [0], [0], [1], [1], [0], [0], [1], [0], [0], [0], [1], [0], [0], [0], [0], [0], [0], [0], [0], [0], [0], [0], [0], [0], [0], [1], [0], [0], [0], [0], [0], [1], [1], [0], [0], [0], [0], [0], [0], [1], [1], [0], [0], [0], [0], [0], [1], [1], [1], [0], [0], [0], [0], [0], [1], [0], [1], [0], [0], [0], [1], [0], [1], [0], [0], [0], [0], [0], [1], [1], [0], [0], [0], [1], [0], [0], [0], [1], [0], [0], [1], [1], [0], [0], [0], [0], [1], [0], [1], [0], [0], [1], [0], [0], [0], [0], [1], [1], [0], [0], [0], [0], [1], [0], [0], [0], [0], [0], [0], [0], [0], [0], [1], [0], [0], [0], [0], [0], [0], [1], [0], [1], [0], [0], [0], [0], [0], [0], [0], [1], [0], [0], [0], [0], [0], [0], [0], [1], [0], [0], [1], [0], [0], [1], [0], [1], [0], [1], [1], [0], [0], [0], [0], [1], [0], [0], [0], [1], [1], [1], [1], [0], [1], [0], [0], [0], [0], [0], [0], [0], [0], [1], [0], [1], [0], [0], [0], [0], [1], [0], [1], [0], [0], [0], [0], [1], [0], [1], [0], [0], [0], [0], [1], [0], [0], [0], [0], [0], [0], [0], [0], [1], [0], [0], [0], [1], [1], [0], [1], [0], [0], [1], [1], [1], [0], [0], [0], [1], [0], [1], [0], [0], [0], [0], [0], [0], [0], [0], [0], [1], [0], [0], [0], [0], [0], [1], [0], [0], [0], [0], [0], [0], [1], [0], [0], [0], [0], [0], [1], [1], [0], [0], [0], [0], [0], [0], [0], [1], [0], [0], [0], [0], [0], [0], [0], [0], [0], [0], [0], [0], [0], [0], [0], [0], [0], [0], [0], [1], [0], [0], [1], [0], [0], [0], [0], [0], [1], [0], [0], [0], [0], [0], [0], [0], [0], [1], [0], [0], [0], [0], [0], [0], [0], [0], [0], [0], [0], [0], [0], [0], [1], [0], [0], [0], [0], [0], [0], [0], [0], [1], [0], [0], [0], [0], [1], [0], [1], [1], [0], [0], [0], [0], [1], [1], [1], [1], [0], [0], [1], [1], [0], [0], [0], [0], [1], [0], [0], [0], [0], [0], [0], [0], [0], [1], [0], [0], [0], [0], [1], [0], [1], [1], [0], [1]]\n"
    }
   ],
   "source": [
    "y_hat_0_1 = threshold_predictions(y_hat_score, 0.5)\n",
    "print(y_hat_0_1)"
   ]
  },
  {
   "cell_type": "markdown",
   "metadata": {},
   "source": [
    "### 2.3: Computing TPR and FPR (5 points)\n",
    "\n",
    "There are many peformance measurements for machine learning classifiers. We now introduce two new ones, true positive rate and true negative rate. We define them using the terminology from a confusion matrix:\n",
    "\n",
    "\\begin{equation}\n",
    "FalsePosRate = \\frac{False Positive}{False Positive + True Negative}\n",
    "\\end{equation}\n",
    "\n",
    "\\begin{equation}\n",
    "TruePosRate = \\frac{True Positive}{True Positive + False Negative}\n",
    "\\end{equation}\n",
    "\n",
    "Write functions which compute the true positive rate and false positive rate, given vectors for true labels (y) and binary predictions (y_hat). Then, compute the TPR and FPR for your predictions from 2.2.\n",
    "\n"
   ]
  },
  {
   "cell_type": "code",
   "execution_count": 39,
   "metadata": {},
   "outputs": [],
   "source": [
    "def true_positive_rate(y, y_hat):\n",
    "    TP = 0 # y=1, y_h=1\n",
    "    FN = 0 # y=1, y_h=0\n",
    "\n",
    "    for i in range(0, len(y)):\n",
    "        a = y[i][0]\n",
    "        b = y_hat[i][0]\n",
    "\n",
    "        if(a==1 and b==1): TP+=1\n",
    "        if(a==1 and b==0): FN+=1\n",
    "\n",
    "    return TP/(TP+FN)\n",
    "\n",
    "\n",
    "def false_positive_rate(y, y_hat):\n",
    "    FP = 0 # y=0, y_h=1\n",
    "    TN = 0 # y=0, y_h=0\n",
    "\n",
    "    for i in range(0, len(y)):\n",
    "        a = y[i][0]\n",
    "        b = y_hat[i][0]\n",
    "\n",
    "        if(a==0 and b==1): FP+=1\n",
    "        if(a==0 and b==0): TN+=1\n",
    "\n",
    "    return FP/(FP+TN)"
   ]
  },
  {
   "cell_type": "code",
   "execution_count": 40,
   "metadata": {},
   "outputs": [
    {
     "name": "stdout",
     "output_type": "stream",
     "text": "0.6727272727272727\n0.07394366197183098\n"
    }
   ],
   "source": [
    "print(true_positive_rate(Y_test.values, y_hat_0_1))\n",
    "print(false_positive_rate(Y_test.values, y_hat_0_1))"
   ]
  },
  {
   "cell_type": "markdown",
   "metadata": {},
   "source": [
    "### 2.4: Computing ROC Curves (5 points)\n",
    "\n",
    "ROC (receiver operating characteristic) curves measure the tradeoff between true positive and false positive rates when thresholding a real-valued predictor. We discussed them in class, and this statquest video can be quite helpful: https://www.youtube.com/watch?v=4jRBRDbJemM\n",
    "\n",
    "Write a function that:\n",
    "- takes in a set of true labels in {0,1} (such as dataY), a set of predictions within interval [0,1] (such as y_hat_score), and a single integer `num_thresholds`, representing the number of thresholds. \n",
    "- Evenly divide the range [0,1] into `num_thresholds` equally sized intervals. (For example, if num_thresholds = 100, your thresholds should be 0.00, 0.01, 0.02, ... , 0.99.) \n",
    "- For each interval, using the bottom of the interval as a threshold,  compute the TPR and FPR of the thresholded predictions.\n",
    "\n",
    "Then, using your function, compute TPR and FPR arrays for `dataY`, `y_hat_score` and `num_thresholds` at 100. (Hint: see numpy's `arange` function)"
   ]
  },
  {
   "cell_type": "code",
   "execution_count": 41,
   "metadata": {},
   "outputs": [],
   "source": [
    "def compute_roc_curve(y, y_hat_score, num_thresholds):\n",
    "    tpr = []\n",
    "    fpr = []\n",
    "\n",
    "    threshs = [round(i * (1 / num_thresholds), 3) for i in range(num_thresholds)]\n",
    "    \n",
    "    for t in threshs:\n",
    "        tp = threshold_predictions(y_hat_score, t)\n",
    "        tpr.append(round(true_positive_rate(y, tp), 5))\n",
    "        fpr.append(round(false_positive_rate(y, tp), 5))\n",
    "\n",
    "    # End of your code\n",
    "    return tpr, fpr\n"
   ]
  },
  {
   "cell_type": "code",
   "execution_count": 42,
   "metadata": {},
   "outputs": [],
   "source": [
    "tpr, fpr = compute_roc_curve(Y_test.values, y_hat_score, 100)"
   ]
  },
  {
   "cell_type": "markdown",
   "metadata": {},
   "source": [
    "### 2.5: ROC Curve Comparison (5 points)\n",
    "\n",
    "The code below is copied from our solution to Lab 1. It splits the data into two groups (A and B) based on whether the proportion of some attribute is greater than some threshold. We use it to split our data depending on whether the proportion of African American people in a community is greater than 50%. Run the cell below."
   ]
  },
  {
   "cell_type": "code",
   "execution_count": 43,
   "metadata": {},
   "outputs": [],
   "source": [
    "## RUN THIS CELL\n",
    "## DO NOT MODIFY\n",
    "\n",
    "def split_on_feature(dataX, dataY, dataA, column, thresh):\n",
    "    rows_A = []\n",
    "    rows_B = []\n",
    "    for i in range(dataX.shape[0]):\n",
    "        if dataA[i, column] < thresh:\n",
    "            rows_A.append(i)\n",
    "        else:\n",
    "            rows_B.append(i)\n",
    "    \n",
    "    X_A = dataX[rows_A, :]\n",
    "    X_B = dataX[rows_B, :]\n",
    "    y_A = dataY[rows_A]\n",
    "    y_B = dataY[rows_B]\n",
    "    \n",
    "    return X_A, X_B, y_A, y_B  \n",
    "\n",
    "\n",
    "# change 2 to whatever racepctblack is\n",
    "X_A, X_B, y_A, y_B = split_on_feature(dataX.values, dataY.values, dataA.values, 0, 0.5)"
   ]
  },
  {
   "cell_type": "markdown",
   "metadata": {},
   "source": [
    "Using the generated arrays (X_A, X_B, y_A, y_B) and your function from 2.4, produce a matplotlib plot showing the ROC curves for each group with 100 threshold values. Use your trained linear regression model for predictions. Your X axis should be FPR and your Y axis should be TPR. Refer to Homework 1 for a reminder on how to use matplotlib."
   ]
  },
  {
   "cell_type": "code",
   "execution_count": 44,
   "metadata": {},
   "outputs": [
    {
     "data": {
      "image/png": "[encoded data removed]",
      "image/svg+xml": "<?xml version=\"1.0\" encoding=\"utf-8\" standalone=\"no\"?>\r\n<!DOCTYPE svg PUBLIC \"-//W3C//DTD SVG 1.1//EN\"\r\n  \"http://www.w3.org/Graphics/SVG/1.1/DTD/svg11.dtd\">\r\n<!-- Created with matplotlib (https://matplotlib.org/) -->\r\n<svg height=\"277.314375pt\" version=\"1.1\" viewBox=\"0 0 385.78125 277.314375\" width=\"385.78125pt\" xmlns=\"http://www.w3.org/2000/svg\" xmlns:xlink=\"http://www.w3.org/1999/xlink\">\r\n <defs>\r\n  <style type=\"text/css\">\r\n*{stroke-linecap:butt;stroke-linejoin:round;}\r\n  </style>\r\n </defs>\r\n <g id=\"figure_1\">\r\n  <g id=\"patch_1\">\r\n   <path d=\"M 0 277.314375 \r\nL 385.78125 277.314375 \r\nL 385.78125 0 \r\nL 0 0 \r\nz\r\n\" style=\"fill:none;\"/>\r\n  </g>\r\n  <g id=\"axes_1\">\r\n   <g id=\"patch_2\">\r\n    <path d=\"M 43.78125 239.758125 \r\nL 378.58125 239.758125 \r\nL 378.58125 22.318125 \r\nL 43.78125 22.318125 \r\nz\r\n\" style=\"fill:#ffffff;\"/>\r\n   </g>\r\n   <g id=\"matplotlib.axis_1\">\r\n    <g id=\"xtick_1\">\r\n     <g id=\"line2d_1\">\r\n      <defs>\r\n       <path d=\"M 0 0 \r\nL 0 3.5 \r\n\" id=\"m3fe8fd5e88\" style=\"stroke:#000000;stroke-width:0.8;\"/>\r\n      </defs>\r\n      <g>\r\n       <use style=\"stroke:#000000;stroke-width:0.8;\" x=\"58.999432\" xlink:href=\"#m3fe8fd5e88\" y=\"239.758125\"/>\r\n      </g>\r\n     </g>\r\n     <g id=\"text_1\">\r\n      <!-- 0.0 -->\r\n      <defs>\r\n       <path d=\"M 31.78125 66.40625 \r\nQ 24.171875 66.40625 20.328125 58.90625 \r\nQ 16.5 51.421875 16.5 36.375 \r\nQ 16.5 21.390625 20.328125 13.890625 \r\nQ 24.171875 6.390625 31.78125 6.390625 \r\nQ 39.453125 6.390625 43.28125 13.890625 \r\nQ 47.125 21.390625 47.125 36.375 \r\nQ 47.125 51.421875 43.28125 58.90625 \r\nQ 39.453125 66.40625 31.78125 66.40625 \r\nz\r\nM 31.78125 74.21875 \r\nQ 44.046875 74.21875 50.515625 64.515625 \r\nQ 56.984375 54.828125 56.984375 36.375 \r\nQ 56.984375 17.96875 50.515625 8.265625 \r\nQ 44.046875 -1.421875 31.78125 -1.421875 \r\nQ 19.53125 -1.421875 13.0625 8.265625 \r\nQ 6.59375 17.96875 6.59375 36.375 \r\nQ 6.59375 54.828125 13.0625 64.515625 \r\nQ 19.53125 74.21875 31.78125 74.21875 \r\nz\r\n\" id=\"DejaVuSans-48\"/>\r\n       <path d=\"M 10.6875 12.40625 \r\nL 21 12.40625 \r\nL 21 0 \r\nL 10.6875 0 \r\nz\r\n\" id=\"DejaVuSans-46\"/>\r\n      </defs>\r\n      <g transform=\"translate(51.047869 254.356562)scale(0.1 -0.1)\">\r\n       <use xlink:href=\"#DejaVuSans-48\"/>\r\n       <use x=\"63.623047\" xlink:href=\"#DejaVuSans-46\"/>\r\n       <use x=\"95.410156\" xlink:href=\"#DejaVuSans-48\"/>\r\n      </g>\r\n     </g>\r\n    </g>\r\n    <g id=\"xtick_2\">\r\n     <g id=\"line2d_2\">\r\n      <g>\r\n       <use style=\"stroke:#000000;stroke-width:0.8;\" x=\"121.224942\" xlink:href=\"#m3fe8fd5e88\" y=\"239.758125\"/>\r\n      </g>\r\n     </g>\r\n     <g id=\"text_2\">\r\n      <!-- 0.2 -->\r\n      <defs>\r\n       <path d=\"M 19.1875 8.296875 \r\nL 53.609375 8.296875 \r\nL 53.609375 0 \r\nL 7.328125 0 \r\nL 7.328125 8.296875 \r\nQ 12.9375 14.109375 22.625 23.890625 \r\nQ 32.328125 33.6875 34.8125 36.53125 \r\nQ 39.546875 41.84375 41.421875 45.53125 \r\nQ 43.3125 49.21875 43.3125 52.78125 \r\nQ 43.3125 58.59375 39.234375 62.25 \r\nQ 35.15625 65.921875 28.609375 65.921875 \r\nQ 23.96875 65.921875 18.8125 64.3125 \r\nQ 13.671875 62.703125 7.8125 59.421875 \r\nL 7.8125 69.390625 \r\nQ 13.765625 71.78125 18.9375 73 \r\nQ 24.125 74.21875 28.421875 74.21875 \r\nQ 39.75 74.21875 46.484375 68.546875 \r\nQ 53.21875 62.890625 53.21875 53.421875 \r\nQ 53.21875 48.921875 51.53125 44.890625 \r\nQ 49.859375 40.875 45.40625 35.40625 \r\nQ 44.1875 33.984375 37.640625 27.21875 \r\nQ 31.109375 20.453125 19.1875 8.296875 \r\nz\r\n\" id=\"DejaVuSans-50\"/>\r\n      </defs>\r\n      <g transform=\"translate(113.273379 254.356562)scale(0.1 -0.1)\">\r\n       <use xlink:href=\"#DejaVuSans-48\"/>\r\n       <use x=\"63.623047\" xlink:href=\"#DejaVuSans-46\"/>\r\n       <use x=\"95.410156\" xlink:href=\"#DejaVuSans-50\"/>\r\n      </g>\r\n     </g>\r\n    </g>\r\n    <g id=\"xtick_3\">\r\n     <g id=\"line2d_3\">\r\n      <g>\r\n       <use style=\"stroke:#000000;stroke-width:0.8;\" x=\"183.450452\" xlink:href=\"#m3fe8fd5e88\" y=\"239.758125\"/>\r\n      </g>\r\n     </g>\r\n     <g id=\"text_3\">\r\n      <!-- 0.4 -->\r\n      <defs>\r\n       <path d=\"M 37.796875 64.3125 \r\nL 12.890625 25.390625 \r\nL 37.796875 25.390625 \r\nz\r\nM 35.203125 72.90625 \r\nL 47.609375 72.90625 \r\nL 47.609375 25.390625 \r\nL 58.015625 25.390625 \r\nL 58.015625 17.1875 \r\nL 47.609375 17.1875 \r\nL 47.609375 0 \r\nL 37.796875 0 \r\nL 37.796875 17.1875 \r\nL 4.890625 17.1875 \r\nL 4.890625 26.703125 \r\nz\r\n\" id=\"DejaVuSans-52\"/>\r\n      </defs>\r\n      <g transform=\"translate(175.498889 254.356562)scale(0.1 -0.1)\">\r\n       <use xlink:href=\"#DejaVuSans-48\"/>\r\n       <use x=\"63.623047\" xlink:href=\"#DejaVuSans-46\"/>\r\n       <use x=\"95.410156\" xlink:href=\"#DejaVuSans-52\"/>\r\n      </g>\r\n     </g>\r\n    </g>\r\n    <g id=\"xtick_4\">\r\n     <g id=\"line2d_4\">\r\n      <g>\r\n       <use style=\"stroke:#000000;stroke-width:0.8;\" x=\"245.675961\" xlink:href=\"#m3fe8fd5e88\" y=\"239.758125\"/>\r\n      </g>\r\n     </g>\r\n     <g id=\"text_4\">\r\n      <!-- 0.6 -->\r\n      <defs>\r\n       <path d=\"M 33.015625 40.375 \r\nQ 26.375 40.375 22.484375 35.828125 \r\nQ 18.609375 31.296875 18.609375 23.390625 \r\nQ 18.609375 15.53125 22.484375 10.953125 \r\nQ 26.375 6.390625 33.015625 6.390625 \r\nQ 39.65625 6.390625 43.53125 10.953125 \r\nQ 47.40625 15.53125 47.40625 23.390625 \r\nQ 47.40625 31.296875 43.53125 35.828125 \r\nQ 39.65625 40.375 33.015625 40.375 \r\nz\r\nM 52.59375 71.296875 \r\nL 52.59375 62.3125 \r\nQ 48.875 64.0625 45.09375 64.984375 \r\nQ 41.3125 65.921875 37.59375 65.921875 \r\nQ 27.828125 65.921875 22.671875 59.328125 \r\nQ 17.53125 52.734375 16.796875 39.40625 \r\nQ 19.671875 43.65625 24.015625 45.921875 \r\nQ 28.375 48.1875 33.59375 48.1875 \r\nQ 44.578125 48.1875 50.953125 41.515625 \r\nQ 57.328125 34.859375 57.328125 23.390625 \r\nQ 57.328125 12.15625 50.6875 5.359375 \r\nQ 44.046875 -1.421875 33.015625 -1.421875 \r\nQ 20.359375 -1.421875 13.671875 8.265625 \r\nQ 6.984375 17.96875 6.984375 36.375 \r\nQ 6.984375 53.65625 15.1875 63.9375 \r\nQ 23.390625 74.21875 37.203125 74.21875 \r\nQ 40.921875 74.21875 44.703125 73.484375 \r\nQ 48.484375 72.75 52.59375 71.296875 \r\nz\r\n\" id=\"DejaVuSans-54\"/>\r\n      </defs>\r\n      <g transform=\"translate(237.724399 254.356562)scale(0.1 -0.1)\">\r\n       <use xlink:href=\"#DejaVuSans-48\"/>\r\n       <use x=\"63.623047\" xlink:href=\"#DejaVuSans-46\"/>\r\n       <use x=\"95.410156\" xlink:href=\"#DejaVuSans-54\"/>\r\n      </g>\r\n     </g>\r\n    </g>\r\n    <g id=\"xtick_5\">\r\n     <g id=\"line2d_5\">\r\n      <g>\r\n       <use style=\"stroke:#000000;stroke-width:0.8;\" x=\"307.901471\" xlink:href=\"#m3fe8fd5e88\" y=\"239.758125\"/>\r\n      </g>\r\n     </g>\r\n     <g id=\"text_5\">\r\n      <!-- 0.8 -->\r\n      <defs>\r\n       <path d=\"M 31.78125 34.625 \r\nQ 24.75 34.625 20.71875 30.859375 \r\nQ 16.703125 27.09375 16.703125 20.515625 \r\nQ 16.703125 13.921875 20.71875 10.15625 \r\nQ 24.75 6.390625 31.78125 6.390625 \r\nQ 38.8125 6.390625 42.859375 10.171875 \r\nQ 46.921875 13.96875 46.921875 20.515625 \r\nQ 46.921875 27.09375 42.890625 30.859375 \r\nQ 38.875 34.625 31.78125 34.625 \r\nz\r\nM 21.921875 38.8125 \r\nQ 15.578125 40.375 12.03125 44.71875 \r\nQ 8.5 49.078125 8.5 55.328125 \r\nQ 8.5 64.0625 14.71875 69.140625 \r\nQ 20.953125 74.21875 31.78125 74.21875 \r\nQ 42.671875 74.21875 48.875 69.140625 \r\nQ 55.078125 64.0625 55.078125 55.328125 \r\nQ 55.078125 49.078125 51.53125 44.71875 \r\nQ 48 40.375 41.703125 38.8125 \r\nQ 48.828125 37.15625 52.796875 32.3125 \r\nQ 56.78125 27.484375 56.78125 20.515625 \r\nQ 56.78125 9.90625 50.3125 4.234375 \r\nQ 43.84375 -1.421875 31.78125 -1.421875 \r\nQ 19.734375 -1.421875 13.25 4.234375 \r\nQ 6.78125 9.90625 6.78125 20.515625 \r\nQ 6.78125 27.484375 10.78125 32.3125 \r\nQ 14.796875 37.15625 21.921875 38.8125 \r\nz\r\nM 18.3125 54.390625 \r\nQ 18.3125 48.734375 21.84375 45.5625 \r\nQ 25.390625 42.390625 31.78125 42.390625 \r\nQ 38.140625 42.390625 41.71875 45.5625 \r\nQ 45.3125 48.734375 45.3125 54.390625 \r\nQ 45.3125 60.0625 41.71875 63.234375 \r\nQ 38.140625 66.40625 31.78125 66.40625 \r\nQ 25.390625 66.40625 21.84375 63.234375 \r\nQ 18.3125 60.0625 18.3125 54.390625 \r\nz\r\n\" id=\"DejaVuSans-56\"/>\r\n      </defs>\r\n      <g transform=\"translate(299.949909 254.356562)scale(0.1 -0.1)\">\r\n       <use xlink:href=\"#DejaVuSans-48\"/>\r\n       <use x=\"63.623047\" xlink:href=\"#DejaVuSans-46\"/>\r\n       <use x=\"95.410156\" xlink:href=\"#DejaVuSans-56\"/>\r\n      </g>\r\n     </g>\r\n    </g>\r\n    <g id=\"xtick_6\">\r\n     <g id=\"line2d_6\">\r\n      <g>\r\n       <use style=\"stroke:#000000;stroke-width:0.8;\" x=\"370.126981\" xlink:href=\"#m3fe8fd5e88\" y=\"239.758125\"/>\r\n      </g>\r\n     </g>\r\n     <g id=\"text_6\">\r\n      <!-- 1.0 -->\r\n      <defs>\r\n       <path d=\"M 12.40625 8.296875 \r\nL 28.515625 8.296875 \r\nL 28.515625 63.921875 \r\nL 10.984375 60.40625 \r\nL 10.984375 69.390625 \r\nL 28.421875 72.90625 \r\nL 38.28125 72.90625 \r\nL 38.28125 8.296875 \r\nL 54.390625 8.296875 \r\nL 54.390625 0 \r\nL 12.40625 0 \r\nz\r\n\" id=\"DejaVuSans-49\"/>\r\n      </defs>\r\n      <g transform=\"translate(362.175419 254.356562)scale(0.1 -0.1)\">\r\n       <use xlink:href=\"#DejaVuSans-49\"/>\r\n       <use x=\"63.623047\" xlink:href=\"#DejaVuSans-46\"/>\r\n       <use x=\"95.410156\" xlink:href=\"#DejaVuSans-48\"/>\r\n      </g>\r\n     </g>\r\n    </g>\r\n    <g id=\"text_7\">\r\n     <!-- FPR -->\r\n     <defs>\r\n      <path d=\"M 9.8125 72.90625 \r\nL 51.703125 72.90625 \r\nL 51.703125 64.59375 \r\nL 19.671875 64.59375 \r\nL 19.671875 43.109375 \r\nL 48.578125 43.109375 \r\nL 48.578125 34.8125 \r\nL 19.671875 34.8125 \r\nL 19.671875 0 \r\nL 9.8125 0 \r\nz\r\n\" id=\"DejaVuSans-70\"/>\r\n      <path d=\"M 19.671875 64.796875 \r\nL 19.671875 37.40625 \r\nL 32.078125 37.40625 \r\nQ 38.96875 37.40625 42.71875 40.96875 \r\nQ 46.484375 44.53125 46.484375 51.125 \r\nQ 46.484375 57.671875 42.71875 61.234375 \r\nQ 38.96875 64.796875 32.078125 64.796875 \r\nz\r\nM 9.8125 72.90625 \r\nL 32.078125 72.90625 \r\nQ 44.34375 72.90625 50.609375 67.359375 \r\nQ 56.890625 61.8125 56.890625 51.125 \r\nQ 56.890625 40.328125 50.609375 34.8125 \r\nQ 44.34375 29.296875 32.078125 29.296875 \r\nL 19.671875 29.296875 \r\nL 19.671875 0 \r\nL 9.8125 0 \r\nz\r\n\" id=\"DejaVuSans-80\"/>\r\n      <path d=\"M 44.390625 34.1875 \r\nQ 47.5625 33.109375 50.5625 29.59375 \r\nQ 53.5625 26.078125 56.59375 19.921875 \r\nL 66.609375 0 \r\nL 56 0 \r\nL 46.6875 18.703125 \r\nQ 43.0625 26.03125 39.671875 28.421875 \r\nQ 36.28125 30.8125 30.421875 30.8125 \r\nL 19.671875 30.8125 \r\nL 19.671875 0 \r\nL 9.8125 0 \r\nL 9.8125 72.90625 \r\nL 32.078125 72.90625 \r\nQ 44.578125 72.90625 50.734375 67.671875 \r\nQ 56.890625 62.453125 56.890625 51.90625 \r\nQ 56.890625 45.015625 53.6875 40.46875 \r\nQ 50.484375 35.9375 44.390625 34.1875 \r\nz\r\nM 19.671875 64.796875 \r\nL 19.671875 38.921875 \r\nL 32.078125 38.921875 \r\nQ 39.203125 38.921875 42.84375 42.21875 \r\nQ 46.484375 45.515625 46.484375 51.90625 \r\nQ 46.484375 58.296875 42.84375 61.546875 \r\nQ 39.203125 64.796875 32.078125 64.796875 \r\nz\r\n\" id=\"DejaVuSans-82\"/>\r\n     </defs>\r\n     <g transform=\"translate(201.816406 268.034687)scale(0.1 -0.1)\">\r\n      <use xlink:href=\"#DejaVuSans-70\"/>\r\n      <use x=\"57.519531\" xlink:href=\"#DejaVuSans-80\"/>\r\n      <use x=\"117.822266\" xlink:href=\"#DejaVuSans-82\"/>\r\n     </g>\r\n    </g>\r\n   </g>\r\n   <g id=\"matplotlib.axis_2\">\r\n    <g id=\"ytick_1\">\r\n     <g id=\"line2d_7\">\r\n      <defs>\r\n       <path d=\"M 0 0 \r\nL -3.5 0 \r\n\" id=\"m67a086635f\" style=\"stroke:#000000;stroke-width:0.8;\"/>\r\n      </defs>\r\n      <g>\r\n       <use style=\"stroke:#000000;stroke-width:0.8;\" x=\"43.78125\" xlink:href=\"#m67a086635f\" y=\"199.464104\"/>\r\n      </g>\r\n     </g>\r\n     <g id=\"text_8\">\r\n      <!-- 0.2 -->\r\n      <g transform=\"translate(20.878125 203.263323)scale(0.1 -0.1)\">\r\n       <use xlink:href=\"#DejaVuSans-48\"/>\r\n       <use x=\"63.623047\" xlink:href=\"#DejaVuSans-46\"/>\r\n       <use x=\"95.410156\" xlink:href=\"#DejaVuSans-50\"/>\r\n      </g>\r\n     </g>\r\n    </g>\r\n    <g id=\"ytick_2\">\r\n     <g id=\"line2d_8\">\r\n      <g>\r\n       <use style=\"stroke:#000000;stroke-width:0.8;\" x=\"43.78125\" xlink:href=\"#m67a086635f\" y=\"157.648518\"/>\r\n      </g>\r\n     </g>\r\n     <g id=\"text_9\">\r\n      <!-- 0.4 -->\r\n      <g transform=\"translate(20.878125 161.447737)scale(0.1 -0.1)\">\r\n       <use xlink:href=\"#DejaVuSans-48\"/>\r\n       <use x=\"63.623047\" xlink:href=\"#DejaVuSans-46\"/>\r\n       <use x=\"95.410156\" xlink:href=\"#DejaVuSans-52\"/>\r\n      </g>\r\n     </g>\r\n    </g>\r\n    <g id=\"ytick_3\">\r\n     <g id=\"line2d_9\">\r\n      <g>\r\n       <use style=\"stroke:#000000;stroke-width:0.8;\" x=\"43.78125\" xlink:href=\"#m67a086635f\" y=\"115.832933\"/>\r\n      </g>\r\n     </g>\r\n     <g id=\"text_10\">\r\n      <!-- 0.6 -->\r\n      <g transform=\"translate(20.878125 119.632151)scale(0.1 -0.1)\">\r\n       <use xlink:href=\"#DejaVuSans-48\"/>\r\n       <use x=\"63.623047\" xlink:href=\"#DejaVuSans-46\"/>\r\n       <use x=\"95.410156\" xlink:href=\"#DejaVuSans-54\"/>\r\n      </g>\r\n     </g>\r\n    </g>\r\n    <g id=\"ytick_4\">\r\n     <g id=\"line2d_10\">\r\n      <g>\r\n       <use style=\"stroke:#000000;stroke-width:0.8;\" x=\"43.78125\" xlink:href=\"#m67a086635f\" y=\"74.017347\"/>\r\n      </g>\r\n     </g>\r\n     <g id=\"text_11\">\r\n      <!-- 0.8 -->\r\n      <g transform=\"translate(20.878125 77.816566)scale(0.1 -0.1)\">\r\n       <use xlink:href=\"#DejaVuSans-48\"/>\r\n       <use x=\"63.623047\" xlink:href=\"#DejaVuSans-46\"/>\r\n       <use x=\"95.410156\" xlink:href=\"#DejaVuSans-56\"/>\r\n      </g>\r\n     </g>\r\n    </g>\r\n    <g id=\"ytick_5\">\r\n     <g id=\"line2d_11\">\r\n      <g>\r\n       <use style=\"stroke:#000000;stroke-width:0.8;\" x=\"43.78125\" xlink:href=\"#m67a086635f\" y=\"32.201761\"/>\r\n      </g>\r\n     </g>\r\n     <g id=\"text_12\">\r\n      <!-- 1.0 -->\r\n      <g transform=\"translate(20.878125 36.00098)scale(0.1 -0.1)\">\r\n       <use xlink:href=\"#DejaVuSans-49\"/>\r\n       <use x=\"63.623047\" xlink:href=\"#DejaVuSans-46\"/>\r\n       <use x=\"95.410156\" xlink:href=\"#DejaVuSans-48\"/>\r\n      </g>\r\n     </g>\r\n    </g>\r\n    <g id=\"text_13\">\r\n     <!-- TPR -->\r\n     <defs>\r\n      <path d=\"M -0.296875 72.90625 \r\nL 61.375 72.90625 \r\nL 61.375 64.59375 \r\nL 35.5 64.59375 \r\nL 35.5 0 \r\nL 25.59375 0 \r\nL 25.59375 64.59375 \r\nL -0.296875 64.59375 \r\nz\r\n\" id=\"DejaVuSans-84\"/>\r\n     </defs>\r\n     <g transform=\"translate(14.798438 140.581094)rotate(-90)scale(0.1 -0.1)\">\r\n      <use xlink:href=\"#DejaVuSans-84\"/>\r\n      <use x=\"61.083984\" xlink:href=\"#DejaVuSans-80\"/>\r\n      <use x=\"121.386719\" xlink:href=\"#DejaVuSans-82\"/>\r\n     </g>\r\n    </g>\r\n   </g>\r\n   <g id=\"line2d_12\">\r\n    <path clip-path=\"url(#p74e4433bb8)\" d=\"M 288.527559 32.201761 \r\nL 279.865768 32.201761 \r\nL 271.203977 32.201761 \r\nL 262.999543 32.745364 \r\nL 254.337752 33.286876 \r\nL 243.852754 34.374081 \r\nL 237.471528 34.374081 \r\nL 227.667899 34.917684 \r\nL 220.602192 36.546401 \r\nL 213.309362 37.631515 \r\nL 207.15526 38.175118 \r\nL 200.089553 39.803835 \r\nL 191.885119 39.803835 \r\nL 186.185263 39.803835 \r\nL 180.03116 39.803835 \r\nL 174.334414 41.434643 \r\nL 169.319038 44.148474 \r\nL 164.076539 44.148474 \r\nL 158.606917 44.148474 \r\nL 154.730267 44.692077 \r\nL 150.172249 47.407999 \r\nL 145.841353 48.493114 \r\nL 141.283335 49.036716 \r\nL 139.00277 49.580319 \r\nL 134.902109 52.837753 \r\nL 131.025459 55.010073 \r\nL 127.606168 56.63879 \r\nL 124.871357 57.182392 \r\nL 120.997819 59.354712 \r\nL 117.121169 60.983429 \r\nL 115.297962 63.155749 \r\nL 111.197301 64.784466 \r\nL 108.005132 67.500388 \r\nL 105.497444 70.21631 \r\nL 102.305275 71.845027 \r\nL 99.570464 73.473744 \r\nL 95.924049 75.646064 \r\nL 92.504758 77.818384 \r\nL 90.227304 81.077909 \r\nL 87.946739 84.335343 \r\nL 85.896408 89.765097 \r\nL 84.984805 91.937416 \r\nL 83.38872 96.825658 \r\nL 82.249994 100.085183 \r\nL 82.019759 101.7139 \r\nL 79.742306 105.514937 \r\nL 77.007494 108.772371 \r\nL 74.954053 111.488293 \r\nL 73.815326 116.376535 \r\nL 72.903722 118.548855 \r\nL 71.992118 121.262686 \r\nL 71.080515 123.978609 \r\nL 70.623157 128.866851 \r\nL 70.168911 131.03917 \r\nL 69.711553 135.925322 \r\nL 69.48443 139.728449 \r\nL 69.027073 142.985883 \r\nL 68.115469 146.78692 \r\nL 67.4341 148.95924 \r\nL 66.976742 151.675162 \r\nL 66.065138 152.218765 \r\nL 65.610892 156.019801 \r\nL 64.241931 159.820838 \r\nL 63.330327 161.993158 \r\nL 62.87297 164.165477 \r\nL 62.87297 164.70908 \r\nL 62.418724 167.422911 \r\nL 62.1916 168.510117 \r\nL 61.961366 170.682436 \r\nL 61.50712 175.027076 \r\nL 61.279997 177.740907 \r\nL 61.049762 179.913227 \r\nL 60.595516 183.172752 \r\nL 60.368393 184.257866 \r\nL 60.138159 189.689711 \r\nL 60.138159 190.774825 \r\nL 60.138159 192.403542 \r\nL 60.138159 196.20667 \r\nL 60.138159 197.835387 \r\nL 60.138159 201.092821 \r\nL 60.138159 205.43746 \r\nL 60.138159 207.066177 \r\nL 60.138159 209.238497 \r\nL 59.911036 210.325702 \r\nL 59.683912 211.410817 \r\nL 59.683912 213.583136 \r\nL 59.683912 214.670342 \r\nL 59.456789 218.471378 \r\nL 59.456789 219.556493 \r\nL 59.456789 221.187301 \r\nL 59.456789 222.816018 \r\nL 59.226555 222.816018 \r\nL 58.999432 223.35962 \r\nL 58.999432 224.444735 \r\nL 58.999432 224.444735 \r\nL 58.999432 224.444735 \r\nL 58.999432 225.53194 \r\nL 58.999432 226.617055 \r\nL 58.999432 228.789374 \r\nL 58.999432 229.874489 \r\n\" style=\"fill:none;stroke:#0000ff;stroke-linecap:square;stroke-width:1.5;\"/>\r\n   </g>\r\n   <g id=\"line2d_13\">\r\n    <path clip-path=\"url(#p74e4433bb8)\" d=\"M 363.363068 32.201761 \r\nL 363.363068 32.201761 \r\nL 363.363068 32.201761 \r\nL 363.363068 32.201761 \r\nL 363.363068 32.201761 \r\nL 363.363068 32.201761 \r\nL 363.363068 32.201761 \r\nL 363.363068 32.201761 \r\nL 356.599155 32.201761 \r\nL 356.599155 32.201761 \r\nL 356.599155 32.201761 \r\nL 349.835242 32.201761 \r\nL 349.835242 32.201761 \r\nL 349.835242 32.201761 \r\nL 349.835242 32.201761 \r\nL 343.071329 32.201761 \r\nL 336.307416 32.201761 \r\nL 336.307416 32.201761 \r\nL 336.307416 32.201761 \r\nL 336.307416 32.201761 \r\nL 322.782702 32.201761 \r\nL 316.018789 32.201761 \r\nL 316.018789 32.201761 \r\nL 309.254876 32.201761 \r\nL 309.254876 32.201761 \r\nL 309.254876 32.201761 \r\nL 309.254876 32.201761 \r\nL 295.72705 32.201761 \r\nL 295.72705 32.201761 \r\nL 295.72705 32.201761 \r\nL 288.963137 33.257605 \r\nL 288.963137 33.257605 \r\nL 288.963137 33.257605 \r\nL 282.199224 33.257605 \r\nL 282.199224 33.257605 \r\nL 282.199224 33.257605 \r\nL 275.435311 33.257605 \r\nL 268.671399 34.313448 \r\nL 261.907486 34.313448 \r\nL 255.143573 34.313448 \r\nL 255.143573 34.313448 \r\nL 255.143573 34.313448 \r\nL 248.382771 34.313448 \r\nL 234.854945 34.313448 \r\nL 228.091032 35.369292 \r\nL 228.091032 36.425136 \r\nL 228.091032 36.425136 \r\nL 228.091032 37.480979 \r\nL 214.563206 37.480979 \r\nL 194.271468 37.480979 \r\nL 187.507555 37.480979 \r\nL 187.507555 37.480979 \r\nL 187.507555 38.536823 \r\nL 180.743642 40.64851 \r\nL 180.743642 42.762288 \r\nL 180.743642 45.929818 \r\nL 180.743642 48.041505 \r\nL 167.218927 50.153192 \r\nL 167.218927 52.264879 \r\nL 167.218927 54.376566 \r\nL 167.218927 55.43241 \r\nL 167.218927 56.488254 \r\nL 167.218927 58.599941 \r\nL 167.218927 58.599941 \r\nL 153.691101 60.711628 \r\nL 153.691101 62.823315 \r\nL 153.691101 64.937093 \r\nL 146.927189 65.992936 \r\nL 133.399363 67.04878 \r\nL 133.399363 70.21631 \r\nL 126.63545 74.439684 \r\nL 119.871537 75.495528 \r\nL 119.871537 78.663059 \r\nL 119.871537 83.942276 \r\nL 119.871537 86.056054 \r\nL 119.871537 89.223585 \r\nL 119.871537 91.335272 \r\nL 119.871537 96.61449 \r\nL 119.871537 102.949551 \r\nL 119.871537 105.061238 \r\nL 106.343711 109.286703 \r\nL 106.343711 113.510077 \r\nL 106.343711 116.677607 \r\nL 106.343711 117.733451 \r\nL 106.343711 120.900982 \r\nL 99.579798 124.068512 \r\nL 99.579798 126.180199 \r\nL 86.055084 126.180199 \r\nL 86.055084 132.517351 \r\nL 86.055084 134.629038 \r\nL 86.055084 138.852413 \r\nL 86.055084 145.187474 \r\nL 86.055084 146.243317 \r\nL 86.055084 147.301252 \r\nL 79.291171 149.412939 \r\nL 79.291171 157.859687 \r\nL 79.291171 159.971374 \r\nL 79.291171 164.194748 \r\nL 79.291171 167.362279 \r\nL 79.291171 171.587744 \r\n\" style=\"fill:none;stroke:#008000;stroke-linecap:square;stroke-width:1.5;\"/>\r\n   </g>\r\n   <g id=\"patch_3\">\r\n    <path d=\"M 43.78125 239.758125 \r\nL 43.78125 22.318125 \r\n\" style=\"fill:none;stroke:#000000;stroke-linecap:square;stroke-linejoin:miter;stroke-width:0.8;\"/>\r\n   </g>\r\n   <g id=\"patch_4\">\r\n    <path d=\"M 378.58125 239.758125 \r\nL 378.58125 22.318125 \r\n\" style=\"fill:none;stroke:#000000;stroke-linecap:square;stroke-linejoin:miter;stroke-width:0.8;\"/>\r\n   </g>\r\n   <g id=\"patch_5\">\r\n    <path d=\"M 43.78125 239.758125 \r\nL 378.58125 239.758125 \r\n\" style=\"fill:none;stroke:#000000;stroke-linecap:square;stroke-linejoin:miter;stroke-width:0.8;\"/>\r\n   </g>\r\n   <g id=\"patch_6\">\r\n    <path d=\"M 43.78125 22.318125 \r\nL 378.58125 22.318125 \r\n\" style=\"fill:none;stroke:#000000;stroke-linecap:square;stroke-linejoin:miter;stroke-width:0.8;\"/>\r\n   </g>\r\n   <g id=\"text_14\">\r\n    <!-- FPR vs. TPR -->\r\n    <defs>\r\n     <path id=\"DejaVuSans-32\"/>\r\n     <path d=\"M 2.984375 54.6875 \r\nL 12.5 54.6875 \r\nL 29.59375 8.796875 \r\nL 46.6875 54.6875 \r\nL 56.203125 54.6875 \r\nL 35.6875 0 \r\nL 23.484375 0 \r\nz\r\n\" id=\"DejaVuSans-118\"/>\r\n     <path d=\"M 44.28125 53.078125 \r\nL 44.28125 44.578125 \r\nQ 40.484375 46.53125 36.375 47.5 \r\nQ 32.28125 48.484375 27.875 48.484375 \r\nQ 21.1875 48.484375 17.84375 46.4375 \r\nQ 14.5 44.390625 14.5 40.28125 \r\nQ 14.5 37.15625 16.890625 35.375 \r\nQ 19.28125 33.59375 26.515625 31.984375 \r\nL 29.59375 31.296875 \r\nQ 39.15625 29.25 43.1875 25.515625 \r\nQ 47.21875 21.78125 47.21875 15.09375 \r\nQ 47.21875 7.46875 41.1875 3.015625 \r\nQ 35.15625 -1.421875 24.609375 -1.421875 \r\nQ 20.21875 -1.421875 15.453125 -0.5625 \r\nQ 10.6875 0.296875 5.421875 2 \r\nL 5.421875 11.28125 \r\nQ 10.40625 8.6875 15.234375 7.390625 \r\nQ 20.0625 6.109375 24.8125 6.109375 \r\nQ 31.15625 6.109375 34.5625 8.28125 \r\nQ 37.984375 10.453125 37.984375 14.40625 \r\nQ 37.984375 18.0625 35.515625 20.015625 \r\nQ 33.0625 21.96875 24.703125 23.78125 \r\nL 21.578125 24.515625 \r\nQ 13.234375 26.265625 9.515625 29.90625 \r\nQ 5.8125 33.546875 5.8125 39.890625 \r\nQ 5.8125 47.609375 11.28125 51.796875 \r\nQ 16.75 56 26.8125 56 \r\nQ 31.78125 56 36.171875 55.265625 \r\nQ 40.578125 54.546875 44.28125 53.078125 \r\nz\r\n\" id=\"DejaVuSans-115\"/>\r\n    </defs>\r\n    <g transform=\"translate(176.094375 16.318125)scale(0.12 -0.12)\">\r\n     <use xlink:href=\"#DejaVuSans-70\"/>\r\n     <use x=\"57.519531\" xlink:href=\"#DejaVuSans-80\"/>\r\n     <use x=\"117.822266\" xlink:href=\"#DejaVuSans-82\"/>\r\n     <use x=\"187.304688\" xlink:href=\"#DejaVuSans-32\"/>\r\n     <use x=\"219.091797\" xlink:href=\"#DejaVuSans-118\"/>\r\n     <use x=\"278.271484\" xlink:href=\"#DejaVuSans-115\"/>\r\n     <use x=\"330.371094\" xlink:href=\"#DejaVuSans-46\"/>\r\n     <use x=\"362.158203\" xlink:href=\"#DejaVuSans-32\"/>\r\n     <use x=\"393.945312\" xlink:href=\"#DejaVuSans-84\"/>\r\n     <use x=\"455.029297\" xlink:href=\"#DejaVuSans-80\"/>\r\n     <use x=\"515.332031\" xlink:href=\"#DejaVuSans-82\"/>\r\n    </g>\r\n   </g>\r\n   <g id=\"legend_1\">\r\n    <g id=\"patch_7\">\r\n     <path d=\"M 247.454688 234.758125 \r\nL 371.58125 234.758125 \r\nQ 373.58125 234.758125 373.58125 232.758125 \r\nL 373.58125 204.401875 \r\nQ 373.58125 202.401875 371.58125 202.401875 \r\nL 247.454688 202.401875 \r\nQ 245.454688 202.401875 245.454688 204.401875 \r\nL 245.454688 232.758125 \r\nQ 245.454688 234.758125 247.454688 234.758125 \r\nz\r\n\" style=\"fill:#ffffff;opacity:0.8;stroke:#cccccc;stroke-linejoin:miter;\"/>\r\n    </g>\r\n    <g id=\"line2d_14\">\r\n     <path d=\"M 249.454688 210.500312 \r\nL 269.454687 210.500312 \r\n\" style=\"fill:none;stroke:#0000ff;stroke-linecap:square;stroke-width:1.5;\"/>\r\n    </g>\r\n    <g id=\"line2d_15\"/>\r\n    <g id=\"text_15\">\r\n     <!-- Group A (&lt;thresh) -->\r\n     <defs>\r\n      <path d=\"M 59.515625 10.40625 \r\nL 59.515625 29.984375 \r\nL 43.40625 29.984375 \r\nL 43.40625 38.09375 \r\nL 69.28125 38.09375 \r\nL 69.28125 6.78125 \r\nQ 63.578125 2.734375 56.6875 0.65625 \r\nQ 49.8125 -1.421875 42 -1.421875 \r\nQ 24.90625 -1.421875 15.25 8.5625 \r\nQ 5.609375 18.5625 5.609375 36.375 \r\nQ 5.609375 54.25 15.25 64.234375 \r\nQ 24.90625 74.21875 42 74.21875 \r\nQ 49.125 74.21875 55.546875 72.453125 \r\nQ 61.96875 70.703125 67.390625 67.28125 \r\nL 67.390625 56.78125 \r\nQ 61.921875 61.421875 55.765625 63.765625 \r\nQ 49.609375 66.109375 42.828125 66.109375 \r\nQ 29.4375 66.109375 22.71875 58.640625 \r\nQ 16.015625 51.171875 16.015625 36.375 \r\nQ 16.015625 21.625 22.71875 14.15625 \r\nQ 29.4375 6.6875 42.828125 6.6875 \r\nQ 48.046875 6.6875 52.140625 7.59375 \r\nQ 56.25 8.5 59.515625 10.40625 \r\nz\r\n\" id=\"DejaVuSans-71\"/>\r\n      <path d=\"M 41.109375 46.296875 \r\nQ 39.59375 47.171875 37.8125 47.578125 \r\nQ 36.03125 48 33.890625 48 \r\nQ 26.265625 48 22.1875 43.046875 \r\nQ 18.109375 38.09375 18.109375 28.8125 \r\nL 18.109375 0 \r\nL 9.078125 0 \r\nL 9.078125 54.6875 \r\nL 18.109375 54.6875 \r\nL 18.109375 46.1875 \r\nQ 20.953125 51.171875 25.484375 53.578125 \r\nQ 30.03125 56 36.53125 56 \r\nQ 37.453125 56 38.578125 55.875 \r\nQ 39.703125 55.765625 41.0625 55.515625 \r\nz\r\n\" id=\"DejaVuSans-114\"/>\r\n      <path d=\"M 30.609375 48.390625 \r\nQ 23.390625 48.390625 19.1875 42.75 \r\nQ 14.984375 37.109375 14.984375 27.296875 \r\nQ 14.984375 17.484375 19.15625 11.84375 \r\nQ 23.34375 6.203125 30.609375 6.203125 \r\nQ 37.796875 6.203125 41.984375 11.859375 \r\nQ 46.1875 17.53125 46.1875 27.296875 \r\nQ 46.1875 37.015625 41.984375 42.703125 \r\nQ 37.796875 48.390625 30.609375 48.390625 \r\nz\r\nM 30.609375 56 \r\nQ 42.328125 56 49.015625 48.375 \r\nQ 55.71875 40.765625 55.71875 27.296875 \r\nQ 55.71875 13.875 49.015625 6.21875 \r\nQ 42.328125 -1.421875 30.609375 -1.421875 \r\nQ 18.84375 -1.421875 12.171875 6.21875 \r\nQ 5.515625 13.875 5.515625 27.296875 \r\nQ 5.515625 40.765625 12.171875 48.375 \r\nQ 18.84375 56 30.609375 56 \r\nz\r\n\" id=\"DejaVuSans-111\"/>\r\n      <path d=\"M 8.5 21.578125 \r\nL 8.5 54.6875 \r\nL 17.484375 54.6875 \r\nL 17.484375 21.921875 \r\nQ 17.484375 14.15625 20.5 10.265625 \r\nQ 23.53125 6.390625 29.59375 6.390625 \r\nQ 36.859375 6.390625 41.078125 11.03125 \r\nQ 45.3125 15.671875 45.3125 23.6875 \r\nL 45.3125 54.6875 \r\nL 54.296875 54.6875 \r\nL 54.296875 0 \r\nL 45.3125 0 \r\nL 45.3125 8.40625 \r\nQ 42.046875 3.421875 37.71875 1 \r\nQ 33.40625 -1.421875 27.6875 -1.421875 \r\nQ 18.265625 -1.421875 13.375 4.4375 \r\nQ 8.5 10.296875 8.5 21.578125 \r\nz\r\nM 31.109375 56 \r\nz\r\n\" id=\"DejaVuSans-117\"/>\r\n      <path d=\"M 18.109375 8.203125 \r\nL 18.109375 -20.796875 \r\nL 9.078125 -20.796875 \r\nL 9.078125 54.6875 \r\nL 18.109375 54.6875 \r\nL 18.109375 46.390625 \r\nQ 20.953125 51.265625 25.265625 53.625 \r\nQ 29.59375 56 35.59375 56 \r\nQ 45.5625 56 51.78125 48.09375 \r\nQ 58.015625 40.1875 58.015625 27.296875 \r\nQ 58.015625 14.40625 51.78125 6.484375 \r\nQ 45.5625 -1.421875 35.59375 -1.421875 \r\nQ 29.59375 -1.421875 25.265625 0.953125 \r\nQ 20.953125 3.328125 18.109375 8.203125 \r\nz\r\nM 48.6875 27.296875 \r\nQ 48.6875 37.203125 44.609375 42.84375 \r\nQ 40.53125 48.484375 33.40625 48.484375 \r\nQ 26.265625 48.484375 22.1875 42.84375 \r\nQ 18.109375 37.203125 18.109375 27.296875 \r\nQ 18.109375 17.390625 22.1875 11.75 \r\nQ 26.265625 6.109375 33.40625 6.109375 \r\nQ 40.53125 6.109375 44.609375 11.75 \r\nQ 48.6875 17.390625 48.6875 27.296875 \r\nz\r\n\" id=\"DejaVuSans-112\"/>\r\n      <path d=\"M 34.1875 63.1875 \r\nL 20.796875 26.90625 \r\nL 47.609375 26.90625 \r\nz\r\nM 28.609375 72.90625 \r\nL 39.796875 72.90625 \r\nL 67.578125 0 \r\nL 57.328125 0 \r\nL 50.6875 18.703125 \r\nL 17.828125 18.703125 \r\nL 11.1875 0 \r\nL 0.78125 0 \r\nz\r\n\" id=\"DejaVuSans-65\"/>\r\n      <path d=\"M 31 75.875 \r\nQ 24.46875 64.65625 21.28125 53.65625 \r\nQ 18.109375 42.671875 18.109375 31.390625 \r\nQ 18.109375 20.125 21.3125 9.0625 \r\nQ 24.515625 -2 31 -13.1875 \r\nL 23.1875 -13.1875 \r\nQ 15.875 -1.703125 12.234375 9.375 \r\nQ 8.59375 20.453125 8.59375 31.390625 \r\nQ 8.59375 42.28125 12.203125 53.3125 \r\nQ 15.828125 64.359375 23.1875 75.875 \r\nz\r\n\" id=\"DejaVuSans-40\"/>\r\n      <path d=\"M 73.1875 49.21875 \r\nL 22.796875 31.296875 \r\nL 73.1875 13.484375 \r\nL 73.1875 4.59375 \r\nL 10.59375 27.296875 \r\nL 10.59375 35.40625 \r\nL 73.1875 58.109375 \r\nz\r\n\" id=\"DejaVuSans-60\"/>\r\n      <path d=\"M 18.3125 70.21875 \r\nL 18.3125 54.6875 \r\nL 36.8125 54.6875 \r\nL 36.8125 47.703125 \r\nL 18.3125 47.703125 \r\nL 18.3125 18.015625 \r\nQ 18.3125 11.328125 20.140625 9.421875 \r\nQ 21.96875 7.515625 27.59375 7.515625 \r\nL 36.8125 7.515625 \r\nL 36.8125 0 \r\nL 27.59375 0 \r\nQ 17.1875 0 13.234375 3.875 \r\nQ 9.28125 7.765625 9.28125 18.015625 \r\nL 9.28125 47.703125 \r\nL 2.6875 47.703125 \r\nL 2.6875 54.6875 \r\nL 9.28125 54.6875 \r\nL 9.28125 70.21875 \r\nz\r\n\" id=\"DejaVuSans-116\"/>\r\n      <path d=\"M 54.890625 33.015625 \r\nL 54.890625 0 \r\nL 45.90625 0 \r\nL 45.90625 32.71875 \r\nQ 45.90625 40.484375 42.875 44.328125 \r\nQ 39.84375 48.1875 33.796875 48.1875 \r\nQ 26.515625 48.1875 22.3125 43.546875 \r\nQ 18.109375 38.921875 18.109375 30.90625 \r\nL 18.109375 0 \r\nL 9.078125 0 \r\nL 9.078125 75.984375 \r\nL 18.109375 75.984375 \r\nL 18.109375 46.1875 \r\nQ 21.34375 51.125 25.703125 53.5625 \r\nQ 30.078125 56 35.796875 56 \r\nQ 45.21875 56 50.046875 50.171875 \r\nQ 54.890625 44.34375 54.890625 33.015625 \r\nz\r\n\" id=\"DejaVuSans-104\"/>\r\n      <path d=\"M 56.203125 29.59375 \r\nL 56.203125 25.203125 \r\nL 14.890625 25.203125 \r\nQ 15.484375 15.921875 20.484375 11.0625 \r\nQ 25.484375 6.203125 34.421875 6.203125 \r\nQ 39.59375 6.203125 44.453125 7.46875 \r\nQ 49.3125 8.734375 54.109375 11.28125 \r\nL 54.109375 2.78125 \r\nQ 49.265625 0.734375 44.1875 -0.34375 \r\nQ 39.109375 -1.421875 33.890625 -1.421875 \r\nQ 20.796875 -1.421875 13.15625 6.1875 \r\nQ 5.515625 13.8125 5.515625 26.8125 \r\nQ 5.515625 40.234375 12.765625 48.109375 \r\nQ 20.015625 56 32.328125 56 \r\nQ 43.359375 56 49.78125 48.890625 \r\nQ 56.203125 41.796875 56.203125 29.59375 \r\nz\r\nM 47.21875 32.234375 \r\nQ 47.125 39.59375 43.09375 43.984375 \r\nQ 39.0625 48.390625 32.421875 48.390625 \r\nQ 24.90625 48.390625 20.390625 44.140625 \r\nQ 15.875 39.890625 15.1875 32.171875 \r\nz\r\n\" id=\"DejaVuSans-101\"/>\r\n      <path d=\"M 8.015625 75.875 \r\nL 15.828125 75.875 \r\nQ 23.140625 64.359375 26.78125 53.3125 \r\nQ 30.421875 42.28125 30.421875 31.390625 \r\nQ 30.421875 20.453125 26.78125 9.375 \r\nQ 23.140625 -1.703125 15.828125 -13.1875 \r\nL 8.015625 -13.1875 \r\nQ 14.5 -2 17.703125 9.0625 \r\nQ 20.90625 20.125 20.90625 31.390625 \r\nQ 20.90625 42.671875 17.703125 53.65625 \r\nQ 14.5 64.65625 8.015625 75.875 \r\nz\r\n\" id=\"DejaVuSans-41\"/>\r\n     </defs>\r\n     <g transform=\"translate(277.454687 214.000312)scale(0.1 -0.1)\">\r\n      <use xlink:href=\"#DejaVuSans-71\"/>\r\n      <use x=\"77.490234\" xlink:href=\"#DejaVuSans-114\"/>\r\n      <use x=\"118.572266\" xlink:href=\"#DejaVuSans-111\"/>\r\n      <use x=\"179.753906\" xlink:href=\"#DejaVuSans-117\"/>\r\n      <use x=\"243.132812\" xlink:href=\"#DejaVuSans-112\"/>\r\n      <use x=\"306.609375\" xlink:href=\"#DejaVuSans-32\"/>\r\n      <use x=\"338.396484\" xlink:href=\"#DejaVuSans-65\"/>\r\n      <use x=\"406.804688\" xlink:href=\"#DejaVuSans-32\"/>\r\n      <use x=\"438.591797\" xlink:href=\"#DejaVuSans-40\"/>\r\n      <use x=\"477.605469\" xlink:href=\"#DejaVuSans-60\"/>\r\n      <use x=\"561.394531\" xlink:href=\"#DejaVuSans-116\"/>\r\n      <use x=\"600.603516\" xlink:href=\"#DejaVuSans-104\"/>\r\n      <use x=\"663.982422\" xlink:href=\"#DejaVuSans-114\"/>\r\n      <use x=\"705.064453\" xlink:href=\"#DejaVuSans-101\"/>\r\n      <use x=\"766.587891\" xlink:href=\"#DejaVuSans-115\"/>\r\n      <use x=\"818.6875\" xlink:href=\"#DejaVuSans-104\"/>\r\n      <use x=\"882.066406\" xlink:href=\"#DejaVuSans-41\"/>\r\n     </g>\r\n    </g>\r\n    <g id=\"line2d_16\">\r\n     <path d=\"M 249.454688 225.178437 \r\nL 269.454687 225.178437 \r\n\" style=\"fill:none;stroke:#008000;stroke-linecap:square;stroke-width:1.5;\"/>\r\n    </g>\r\n    <g id=\"line2d_17\"/>\r\n    <g id=\"text_16\">\r\n     <!-- Group B (&gt;thresh) -->\r\n     <defs>\r\n      <path d=\"M 19.671875 34.8125 \r\nL 19.671875 8.109375 \r\nL 35.5 8.109375 \r\nQ 43.453125 8.109375 47.28125 11.40625 \r\nQ 51.125 14.703125 51.125 21.484375 \r\nQ 51.125 28.328125 47.28125 31.5625 \r\nQ 43.453125 34.8125 35.5 34.8125 \r\nz\r\nM 19.671875 64.796875 \r\nL 19.671875 42.828125 \r\nL 34.28125 42.828125 \r\nQ 41.5 42.828125 45.03125 45.53125 \r\nQ 48.578125 48.25 48.578125 53.8125 \r\nQ 48.578125 59.328125 45.03125 62.0625 \r\nQ 41.5 64.796875 34.28125 64.796875 \r\nz\r\nM 9.8125 72.90625 \r\nL 35.015625 72.90625 \r\nQ 46.296875 72.90625 52.390625 68.21875 \r\nQ 58.5 63.53125 58.5 54.890625 \r\nQ 58.5 48.1875 55.375 44.234375 \r\nQ 52.25 40.28125 46.1875 39.3125 \r\nQ 53.46875 37.75 57.5 32.78125 \r\nQ 61.53125 27.828125 61.53125 20.40625 \r\nQ 61.53125 10.640625 54.890625 5.3125 \r\nQ 48.25 0 35.984375 0 \r\nL 9.8125 0 \r\nz\r\n\" id=\"DejaVuSans-66\"/>\r\n      <path d=\"M 10.59375 49.21875 \r\nL 10.59375 58.109375 \r\nL 73.1875 35.40625 \r\nL 73.1875 27.296875 \r\nL 10.59375 4.59375 \r\nL 10.59375 13.484375 \r\nL 60.890625 31.296875 \r\nz\r\n\" id=\"DejaVuSans-62\"/>\r\n     </defs>\r\n     <g transform=\"translate(277.454687 228.678437)scale(0.1 -0.1)\">\r\n      <use xlink:href=\"#DejaVuSans-71\"/>\r\n      <use x=\"77.490234\" xlink:href=\"#DejaVuSans-114\"/>\r\n      <use x=\"118.572266\" xlink:href=\"#DejaVuSans-111\"/>\r\n      <use x=\"179.753906\" xlink:href=\"#DejaVuSans-117\"/>\r\n      <use x=\"243.132812\" xlink:href=\"#DejaVuSans-112\"/>\r\n      <use x=\"306.609375\" xlink:href=\"#DejaVuSans-32\"/>\r\n      <use x=\"338.396484\" xlink:href=\"#DejaVuSans-66\"/>\r\n      <use x=\"407\" xlink:href=\"#DejaVuSans-32\"/>\r\n      <use x=\"438.787109\" xlink:href=\"#DejaVuSans-40\"/>\r\n      <use x=\"477.800781\" xlink:href=\"#DejaVuSans-62\"/>\r\n      <use x=\"561.589844\" xlink:href=\"#DejaVuSans-116\"/>\r\n      <use x=\"600.798828\" xlink:href=\"#DejaVuSans-104\"/>\r\n      <use x=\"664.177734\" xlink:href=\"#DejaVuSans-114\"/>\r\n      <use x=\"705.259766\" xlink:href=\"#DejaVuSans-101\"/>\r\n      <use x=\"766.783203\" xlink:href=\"#DejaVuSans-115\"/>\r\n      <use x=\"818.882812\" xlink:href=\"#DejaVuSans-104\"/>\r\n      <use x=\"882.261719\" xlink:href=\"#DejaVuSans-41\"/>\r\n     </g>\r\n    </g>\r\n   </g>\r\n  </g>\r\n </g>\r\n <defs>\r\n  <clipPath id=\"p74e4433bb8\">\r\n   <rect height=\"217.44\" width=\"334.8\" x=\"43.78125\" y=\"22.318125\"/>\r\n  </clipPath>\r\n </defs>\r\n</svg>\r\n",
      "text/plain": "<Figure size 432x288 with 1 Axes>"
     },
     "metadata": {
      "needs_background": "light"
     },
     "output_type": "display_data"
    }
   ],
   "source": [
    "%matplotlib inline \n",
    "import matplotlib.pyplot as plt\n",
    "\n",
    "A_y_hat_score = reg.predict(X_A)\n",
    "A_tpr, A_fpr = compute_roc_curve(y_A, A_y_hat_score, 100)\n",
    "\n",
    "B_y_hat_score = reg.predict(X_B)\n",
    "B_tpr, B_fpr = compute_roc_curve(y_B, B_y_hat_score, 100)\n",
    "\n",
    "plt.title('FPR vs. TPR')\n",
    "plt.xlabel('FPR')\n",
    "plt.ylabel('TPR')\n",
    "\n",
    "plt.plot(A_fpr, A_tpr, color='blue', label='Group A (<thresh)') # Group A\n",
    "plt.plot(B_fpr, B_tpr, color='green', label='Group B (>thresh)') # Group B\n",
    "plt.legend()\n",
    "\n",
    "plt.show()"
   ]
  },
  {
   "cell_type": "markdown",
   "metadata": {},
   "source": [
    "### 2.6: Minimizing Unfairness (5 points)\n",
    "\n",
    "There are many, many different definitions of unfairness. For this lab, we'll be using the **Equalized Odds Criterion**, where we check if the ROC curves of two groups are the same. We check its \"fairness error\" via: $|TPR_A - TPR_B| + |FPR_A - FPR_B|$\n",
    "\n",
    "There are 10,000 possible pairs of thresholds of the form $(a,b)$ where $a$ is the threshold for A and $b$ is the threshold for B in data plotted above. Find and print out the pair which minimizes this \"fairness error\". You can think of this as finding points which are closest between the two ROC curves."
   ]
  },
  {
   "cell_type": "code",
   "execution_count": 45,
   "metadata": {},
   "outputs": [],
   "source": [
    "min_fairness = float('inf')\n",
    "min_unfairness_A_thresh = 0\n",
    "min_unfairness_B_thresh = 0\n",
    "\n",
    "A_y_hat_score = reg.predict(X_A)\n",
    "B_y_hat_score = reg.predict(X_B)\n",
    "\n",
    "for a in range(1,101):\n",
    "    A_tpr, A_fpr = compute_roc_curve(y_A, A_y_hat_score, a)\n",
    "    for b in range(1, 101):\n",
    "        B_tpr, B_fpr = compute_roc_curve(y_B, B_y_hat_score, b)\n",
    "        minl = min(len(A_tpr), len(A_fpr), len(B_tpr), len(B_fpr))\n",
    "        for i in range(minl):\n",
    "            fairness = abs(A_tpr[i]-B_tpr[i]) + abs(A_fpr[i]-B_fpr[i])\n",
    "            if(fairness < min_fairness):\n",
    "                min_fairness = fairness\n",
    "                min_unfairness_A_thresh = a\n",
    "                min_unfairness_B_thresh = b\n"
   ]
  },
  {
   "cell_type": "code",
   "execution_count": 46,
   "metadata": {},
   "outputs": [
    {
     "name": "stdout",
     "output_type": "stream",
     "text": "(95, 14)\n"
    }
   ],
   "source": [
    "print((min_unfairness_A_thresh, min_unfairness_B_thresh))"
   ]
  },
  {
   "cell_type": "markdown",
   "metadata": {},
   "source": [
    "### 2.7: Evaluating Accuracy (5 points)\n",
    "\n",
    "Compute the overall accuracy when using the thresholds from 2.6 on their respective groups. Compare this to the threshold in {0.00, 0.01, 0.02, ... , 0.99} that gives us the highest accuracy for both groups."
   ]
  },
  {
   "cell_type": "code",
   "execution_count": 47,
   "metadata": {},
   "outputs": [],
   "source": [
    "A_tpr_1, A_fpr_1 = compute_roc_curve(y_A, A_y_hat_score, 95)\n",
    "B_tpr_1, B_fpr_1 = compute_roc_curve(y_B, B_y_hat_score, 14)\n",
    "\n",
    "fair_err = abs(sum(A_tpr_1)/len(A_tpr_1) - sum(B_tpr_1)/len(B_tpr_1))\n",
    "\n",
    "y_hat_score = reg.predict(X_test)\n",
    "tpr, fpr = compute_roc_curve(Y_test.values, y_hat_score, 100)\n",
    "\n",
    "min_err = max(tpr)"
   ]
  },
  {
   "cell_type": "code",
   "execution_count": 48,
   "metadata": {},
   "outputs": [
    {
     "name": "stdout",
     "output_type": "stream",
     "text": "(1.0, 0.3075988571428572)\n"
    }
   ],
   "source": [
    "print((min_err, fair_err))"
   ]
  },
  {
   "cell_type": "markdown",
   "metadata": {},
   "source": [
    "## Part 3: Marginal Group Fairness via Cost-Sensitive Reduction (15 Points)\n",
    "\n",
    "In this section, you will implement models from Microsoft Research (MSR), which use cost-sensitive classification in order to generate classifiers which satisfy particular fairness metrics. The algorithm is derived in [A Reductions Approach to Fair Classification](https://arxiv.org/pdf/1803.02453.pdf)."
   ]
  },
  {
   "cell_type": "markdown",
   "metadata": {},
   "source": [
    "### 3.1: Importing the MSR code (5 Points)\n",
    "The version of the MSR code has been provided in the same directory as this notebook. Run the following command to make sure that the notebook is able to run the code."
   ]
  },
  {
   "cell_type": "code",
   "execution_count": 49,
   "metadata": {},
   "outputs": [
    {
     "name": "stdout",
     "output_type": "stream",
     "text": "testing (DP, eps=0.100): disp_diff=-3.726620e-03\n"
    }
   ],
   "source": [
    "## Run this cell\n",
    "!python test_fairlearn.py\n",
    "\n",
    "import marginal_fair\n",
    "## Expected Output:\n",
    "# testing (DP, eps=0.100): ok"
   ]
  },
  {
   "cell_type": "markdown",
   "metadata": {},
   "source": [
    "### 3.2: Marginal Fairness (5 Points)\n",
    "In this section, you will analyze a classifier that is marginally fair with respect to the protected attributes.\n",
    "\n",
    "The current implementation of the MSR code allows for one protected attribute at a time, so we have provided a file `marginal_fair.py` which generalizes the MSR code to allow for more than one protected attribute.\n",
    "\n",
    "At the bottom of `marginal_fair.py`, you will find a function `run_eps_single`, which runs this algorithm. The function takes in 4 arguments: `eps`, `x`, `a`, and `y`. `x`, `a`, and `y` correspond to `dataX`, `dataA`, and `dataY`, respectively, and `eps` is a parameter which measures the allowed statistical unfairness of a classifier (in this case, we are looking at false positive disparity rates).\n",
    "\n",
    "Using `run_eps_single`, get the predictions of the marginally fair classifier for `eps = 0.01` and report the overall error of this classifier."
   ]
  },
  {
   "cell_type": "code",
   "execution_count": 50,
   "metadata": {},
   "outputs": [],
   "source": [
    "## YOUR CODE HERE\n",
    "\n"
   ]
  },
  {
   "cell_type": "markdown",
   "metadata": {},
   "source": [
    "### 3.3: Pareto Curve for Marginally Fair Classifier (5 Points)\n",
    "By varying the parameter `eps`, construct a Pareto curve that measures the error of the classifier as the allowed fairness violation changes.\n",
    "\n",
    "Use the following values for `eps`: `.005, .01, .075, .14, .2`\n",
    "\n",
    "When the code is complete, plot your results using `matplotlib`."
   ]
  },
  {
   "cell_type": "code",
   "execution_count": 51,
   "metadata": {},
   "outputs": [],
   "source": [
    "## YOUR CODE HERE\n",
    "\n"
   ]
  },
  {
   "cell_type": "markdown",
   "metadata": {},
   "source": [
    "## Part 4: Short Response Questions (25 Points)"
   ]
  },
  {
   "cell_type": "markdown",
   "metadata": {},
   "source": [
    "**Question 1:** Below is a gif of a heatmap which shows how false positive disparity change for specific subgroups as the Learner and Auditor interact in each round. Each square represents a subgroup, the z-axis is the fairness disparity of that subgroup. What does it mean when the heatmap is \\\"flat\\\"?\n",
    "![heatmap](./heatmap.gif)"
   ]
  },
  {
   "cell_type": "markdown",
   "metadata": {},
   "source": [
    "When it is flat, ALL possible disparities from ALL possible pairs (of the x and y axis ) are minimal"
   ]
  },
  {
   "cell_type": "markdown",
   "metadata": {},
   "source": [
    "**Question 2:** Look at the error and gamma unfairness in the MSR code. Can you think of any possible explanations?"
   ]
  },
  {
   "cell_type": "markdown",
   "metadata": {},
   "source": [
    "... skip ..."
   ]
  },
  {
   "cell_type": "markdown",
   "metadata": {},
   "source": [
    "**Question 3:** In Part 2, you should have seen that the error of the most fair pair of thresholds was much larger than the error for the best overall threshold. Suppose that you are allowed to randomize between thresholds, allowing you to achieve any TPR-FPR pair beneath the ROC curve for each group. Can you think of a better approach for maximizing accuracy while maintaining fairness?"
   ]
  },
  {
   "cell_type": "markdown",
   "metadata": {},
   "source": [
    "To maximize accuracy and mantain fairness,  we should try to shoot for a point where the curve starts to change. This can be done with a dertivate. Basically calculate the maxium slope"
   ]
  },
  {
   "cell_type": "markdown",
   "metadata": {},
   "source": [
    "**Question 4:** What do you think the relationship error of a fair classifier and the number of protected attributes is? That is, if we increase the number of protected attributes, do you think the error would increase, decrease, or stay the same?"
   ]
  },
  {
   "cell_type": "markdown",
   "metadata": {},
   "source": [
    "The error would be directly tied to the number of protected features. As you increase the number pf protected fetures, there are less features you can train on -- thus increasing your overall error"
   ]
  },
  {
   "cell_type": "markdown",
   "metadata": {},
   "source": [
    "**Question 5:** Do you think accuracy was a good measure to evaluate each thresholds in part 2.7? Why or why not?"
   ]
  },
  {
   "cell_type": "markdown",
   "metadata": {},
   "source": [
    "Accuracy was a good way to evaulate the thresholds as this sort of data would benifit from a high TP and TN rate, rather than FP and FN"
   ]
  }
 ],
 "metadata": {
  "kernelspec": {
   "display_name": "Python 3",
   "language": "python",
   "name": "python3"
  },
  "language_info": {
   "codemirror_mode": {
    "name": "ipython",
    "version": 3
   },
   "file_extension": ".py",
   "mimetype": "text/x-python",
   "name": "python",
   "nbconvert_exporter": "python",
   "pygments_lexer": "ipython3",
   "version": "3.7.4-final"
  }
 },
 "nbformat": 4,
 "nbformat_minor": 2
}