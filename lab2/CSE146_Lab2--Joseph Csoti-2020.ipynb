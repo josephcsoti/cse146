{
 "cells": [
  {
   "cell_type": "markdown",
   "metadata": {
    "collapsed": true
   },
   "source": [
    "# CSE 146 Lab 2: Causality\n",
    "### ASSIGNED: January 24, 2020\n",
    "### DUE: February 4, 2020"
   ]
  },
  {
   "cell_type": "markdown",
   "metadata": {},
   "source": [
    "The purpose of this assignment is to familiarize yourself with concepts in causality, including the do-calculus and interventions, using interventions to reason about causal relationships in dat, and the difference between correlation and causation."
   ]
  },
  {
   "cell_type": "markdown",
   "metadata": {},
   "source": [
    "## Instructions \n",
    "Prior to beginning the assignment you should read the chapter Causality from _[Fair ML](https://fairmlbook.org/causal.html)_. In addition, if you're not familiar with treating [functions as objects in python](https://www.geeksforgeeks.org/passing-function-as-an-argument-in-python/)  or [basic probability](https://towardsdatascience.com/basic-probability-theory-and-statistics-3105ab637213) you should read the short articles linked. \n",
    "\n",
    "For each question, you should write python code to compute the answer to the questions that renders in a readable way according to the specifications of the question. You may only use the packages provided in the Background and Setup code. We will not be installing any packages during grading, and code that does not compile will negatively affect your grade.\n",
    "\n",
    "This assignment is to be done <b>on your own</b>. You may discuss the assignment with your classmates, but do not share code or solutions. List the students you discussed the assignment with in the space provided below. You may visit any of the TAs in their office hours or ask questions on Piazza.\n",
    "\n",
    "Be sure to rename this homework notebook so that it includes your last name. \n",
    "\n",
    "### List any students you talked with about this assignment here:\n",
    "1. [person 1]\n",
    "2. [person 2]\n",
    "3. etc."
   ]
  },
  {
   "cell_type": "markdown",
   "metadata": {},
   "source": [
    "# Background and Setup\n",
    "\n",
    "In this assignment we will be considering _structural causal models_ and _causal graphs_ describing the relationship between regular exercise, being overweight, and having heart disease, each represented by the variables X, W, and H, respectively. For each variable a 1 indicates a \"yes\" to the question and a 0 indicates a \"no.\" For example, if I have the tuple (1,0,1), that corresponds to a person who exercises regularly, is not overweight, but does have heart disease. \n",
    "\n",
    "<b>Definition 1:</b> A _structural causal model,_ $\\mathbb{M}$, is a set of variables $\\{X_1,X_2,...,X_d\\}$, where\n",
    "\\begin{equation}\n",
    "X_i := f(Pa(X_i)) \\text{ for } i = 1,2,...,d,\n",
    "\\end{equation}\n",
    "\n",
    "$Pa(X_i) \\subseteq \\{X_1,X_2,...,X_d\\} \\cup U_i$ are the \"parents\" of $X_i$, and $U_1,U_2,...,U_d$ are jointly independent noise functions.\n",
    "\n",
    "<b>Definition 2:</b> A _causal graph_ for $\\mathbb{M}$, is a directed graph with nodes $\\{X_1,X_2,...,X_d,U_1,U_2,...,U_d\\}$ and directed edges such that there is an edge from $X_i \\rightarrow X_j$ if and only if $X_i$ is a parent of $X_j$.\n",
    "\n",
    "<b>Definition 3:</b> An _intervention_ on a variable, $X_i$, in a structural causal model, $\\mathbb{M}$, is an assignment of a new distribution function $g$ to $X_i$, resulting in a new structural causal model, $\\mathbb{M}[\\text{do}(X_i := g)]$. Typically $g = c$, where $c$ is some constant.\n",
    "\n",
    "<b>Definition 4:</b> The _expected value_ of a variable, $X$, is given by the formula\n",
    "\\begin{equation}\n",
    "E(X) = \\sum_x xP(x).\n",
    "\\end{equation}\n",
    "\n",
    "Notice that if $P(x)$ is a uniform distribution computing the expected value of $X$ is equivalent to taking the average."
   ]
  },
  {
   "cell_type": "code",
   "execution_count": 1,
   "metadata": {},
   "outputs": [],
   "source": [
    "import pandas\n",
    "import numpy\n",
    "import random\n",
    "\n",
    "def generate_dataset(n, generate_datapoint, X, W, H, columns = []):\n",
    "    d = []\n",
    "    for i in range(n):\n",
    "        d.append(generate_datapoint(X, W, H))\n",
    "        \n",
    "    if len(columns) > 0:\n",
    "        return pandas.DataFrame(d, columns = columns)\n",
    "    else: \n",
    "        return pandas.DataFrame(d)"
   ]
  },
  {
   "cell_type": "markdown",
   "metadata": {},
   "source": [
    "The function `generate_dataset` takes a length of the dataset, a function to generate a datapoint, three distribution functions to be passed to `generate_datapoint`, and an optional argument, columns. If you choose to rename the columns, the number of columns must match the size of the generated data point."
   ]
  },
  {
   "cell_type": "markdown",
   "metadata": {},
   "source": [
    "# Problems\n",
    "### Problem 1 (15 points)\n",
    "#### Question\n",
    "Based on the code in `generate_M_datapoint` and in the distribution functions we have defined a _structural causal model,_ which we will call $\\mathbb{M}$. \n",
    "\n",
    "(a) List the edges in the causal graph assosiated with $\\mathbb{M}$ in the form $A \\rightarrow B$, where $A$ is a parent of $B$. Be sure that the arrow is pointing in the right direction! (5 points)\n",
    "\n",
    "(b) Analytically compute the probability that each variable in $\\mathbb{M}$ is true (e.g. $P(X = 1)$) in our _structural causal model_ using the formula\n",
    "\\begin{equation}\n",
    "P(A) = \\sum_B P(A|B)P(B).\n",
    "\\end{equation}\n",
    "\n",
    "Show your work! (<b>hint</b>: Start with $X$. Observe that `random.randint(a,b)` is a uniform distribution over the interval $[a,b]$.) (10 points)"
   ]
  },
  {
   "cell_type": "code",
   "execution_count": 1,
   "metadata": {},
   "outputs": [],
   "source": [
    "def generate_M_datapoint(X, W, H):\n",
    "    x = X()\n",
    "    w = W(x)\n",
    "    h = H(x)\n",
    "    return [x, w, h]\n",
    "\n",
    "def X_M_distribution():\n",
    "    return random.randint(0,1)\n",
    "\n",
    "def W_M_distribution(x):\n",
    "    if(x == 1):\n",
    "        return int(random.randint(0,5) < 1)\n",
    "    else:\n",
    "        return int(random.randint(0,2) < 1)\n",
    "\n",
    "def H_M_distribution(x):\n",
    "    if(x == 1):\n",
    "        return int(random.randint(0,3) < 1)\n",
    "    else:\n",
    "        return int(random.randint(0,1) < 1)"
   ]
  },
  {
   "cell_type": "markdown",
   "metadata": {},
   "source": [
    "#### Answer"
   ]
  },
  {
   "cell_type": "markdown",
   "metadata": {},
   "source": [
    "(a) \n",
    "\n",
    "(b) \n"
   ]
  },
  {
   "cell_type": "markdown",
   "metadata": {},
   "source": [
    "### Problem 2 (10 points)\n",
    "#### Question\n",
    "\n",
    "(a) Using `generate_dataset`, generate a dataset called `M_data` of size 1,000,000 with column names 'X', 'W', and 'H' using the distributions defining $\\mathbb{M}$ from Problem 1. (5 points)\n",
    "\n",
    "(b) Using your new dataset, `M_data`, compute (and display) the conditional probability $P_\\mathbb{M}( H = 1 | W = 1)$. (5 points)\n",
    "#### Answer"
   ]
  },
  {
   "cell_type": "code",
   "execution_count": 3,
   "metadata": {},
   "outputs": [],
   "source": [
    "# (a)"
   ]
  },
  {
   "cell_type": "code",
   "execution_count": 4,
   "metadata": {},
   "outputs": [],
   "source": [
    "# (b)"
   ]
  },
  {
   "cell_type": "markdown",
   "metadata": {},
   "source": [
    "### Problem 3 (20 points)\n",
    "#### Question\n",
    "\n",
    "(a) Using `generate_dataset`, generate a dataset named `MdoW1_data` of size 1,000,000 with column names 'X', 'W', and 'H' using the distributions defining $\\mathbb{M}[\\text{do}(W := 1)]$. Notice that this amounts to changing the distribution for $W$ meaning you will have to define a new distribution function for $W$ and a new function to generate a datapoint. Name the new data generation function for $\\mathbb{M}[\\text{do}(W := 1)]$ `generate_MdoW_datapoint` and your new function defining the distribution $W := 1$ `W_MdoW1_distribution`. (15 points)\n",
    "\n",
    "(b) Using this dataset, compute (and display) $P_{\\mathbb{M}[\\text{do}(W := 1)]}(H =1)$. (5 points)\n",
    "\n",
    "#### Answer"
   ]
  },
  {
   "cell_type": "code",
   "execution_count": 5,
   "metadata": {},
   "outputs": [],
   "source": [
    "# (a)"
   ]
  },
  {
   "cell_type": "code",
   "execution_count": 6,
   "metadata": {},
   "outputs": [],
   "source": [
    "# (b)"
   ]
  },
  {
   "cell_type": "markdown",
   "metadata": {},
   "source": [
    "### Problem 4 (10 points + 2 extra credit)\n",
    "#### Question\n",
    "(a) List the edges in the causal graph assosiated with $\\mathbb{M}[\\text{do}(W := 1)]$ in the form $A \\rightarrow B$, where $A$ is a parent of $B$. (5 points)\n",
    "\n",
    "(b) How does $P_{\\mathbb{M}[\\text{do}(W := 1)]}(H =1)$ compare with the conditional probability $P_\\mathbb{M}( H = 1 | W = 1)$ you computed in Problem 2? From this, what can you conclude about the causal relationship between $W$ and $H$ in $\\mathbb{M}$? What is $X$ called in $\\mathbb{M}$? (5 points)\n",
    "\n",
    "(Extra Credit) What about the structure of the causal graph of $\\mathbb{M}$ would tell us that $X$ is a ----. (2 points)\n",
    "\n",
    "#### Answer"
   ]
  },
  {
   "cell_type": "markdown",
   "metadata": {},
   "source": [
    "(a)\n",
    "\n",
    "(b)\n",
    "\n",
    "(Extra Credit) \n"
   ]
  },
  {
   "cell_type": "markdown",
   "metadata": {},
   "source": [
    "### Problem 5 (20 points)\n",
    "#### Question\n",
    "(a) Using `generate_dataset`, generate a dataset named `MdoW0_data` of size 1,000,000 with column names 'X', 'W', and 'H' using the distributions defining 𝕄[do(𝑊:=0)]. To do this, as before, define a new function for the distribution $W := 0$ named `W_MdoW0_distribution`. If you did Problem 3 well, you can reuse the function `generate_MdoW_datapoint`, otherwise you'll need to write a function `generate_MdoW0_datapoint`. (5 points)\n",
    "\n",
    "(b) To further elucidate the relationship between $W$ and $H$ compute (and display)\n",
    "\\begin{equation}\n",
    "E_{\\mathbb{M}[\\text{do}(W := 1)]}(H) - E_{\\mathbb{M}[\\text{do}(W := 0)]}(H). \\text{ (10 points)}\n",
    "\\end{equation}\n",
    "\n",
    "This is called the _average treatment effect_ of $W$ on $H$, and it tells us how much the intervention on $W$ changes the expectation of $H$.\n",
    "\n",
    "(c) Does the insight from the _average treatment effect_ of $W$ on $H$ agree with your conclusions from Problem 4(b)? (5 points)\n",
    "\n",
    "\n",
    "#### Answer"
   ]
  },
  {
   "cell_type": "code",
   "execution_count": 7,
   "metadata": {},
   "outputs": [],
   "source": [
    "# (a)"
   ]
  },
  {
   "cell_type": "code",
   "execution_count": 8,
   "metadata": {},
   "outputs": [],
   "source": [
    "# (b)"
   ]
  },
  {
   "cell_type": "markdown",
   "metadata": {},
   "source": [
    "(c)"
   ]
  },
  {
   "cell_type": "markdown",
   "metadata": {},
   "source": [
    "### Problem 6 (25 points)\n",
    "Up until now we have assumed that we know precisely the data generation process (enough to program it!), and so we have computed interventions in our _structural causal model_ by directly changing the data generation process and creating a new dataset. In the real world, it is unlikely that we would know exactly how data is generated, and it is even less likely that we would be able to gather a new dataset. However, given our expert knowledge of this domain, we can come up with a _causal graph_ that we believe represents how different columns in our dataset are causally dependent. From this, we can estimate the effect of an intervention using the formula\n",
    "\\begin{equation}\n",
    "P_{\\mathbb{M}[\\text{do}(A := a)]}(B = b) = \\sum_z P_{\\mathbb{M}}(B = b | A = a, Pa(B) = z)P_{\\mathbb{M}}(Pa(B) = z).\n",
    "\\end{equation}\n",
    "\n",
    "#### Question\n",
    "(a) What are the parent(s) of $W$ in $\\mathbb{M}$, and what are the possible values they(it) can take? (5 points)\n",
    "\n",
    "(b) Using the _causal graph_ you discovered in Problem 1(a) and the dataset `M_data` from Problem 2, compute (and display) $P_{\\mathbb{M}[\\text{do}(W := 1)]}(H = 1)$ with the above formula. (15 points)\n",
    "\n",
    "(c) How does the estimated intervention compare to the intervention you computed in Problem 3(b)? What does this tell you about the _causal graph_ we've assumed? (5 points)\n",
    "\n",
    "\n",
    "#### Answer"
   ]
  },
  {
   "cell_type": "markdown",
   "metadata": {},
   "source": [
    "(a)"
   ]
  },
  {
   "cell_type": "code",
   "execution_count": 9,
   "metadata": {},
   "outputs": [],
   "source": [
    "# (b)"
   ]
  },
  {
   "cell_type": "markdown",
   "metadata": {},
   "source": [
    "(c)"
   ]
  },
  {
   "cell_type": "markdown",
   "metadata": {},
   "source": [
    "# References\n",
    "[1] Barocas, Hardt, Narayanan: _Fairness and Machine Learning Ch. 4, Causality._ fairmlbook.org, http://www.fairmlbook.org, 2019."
   ]
  }
 ],
 "metadata": {
  "kernelspec": {
   "display_name": "Python 3",
   "language": "python",
   "name": "python3"
  },
  "language_info": {
   "codemirror_mode": {
    "name": "ipython",
    "version": 3
   },
   "file_extension": ".py",
   "mimetype": "text/x-python",
   "name": "python",
   "nbconvert_exporter": "python",
   "pygments_lexer": "ipython3",
   "version": "3.7.3"
  }
 },
 "nbformat": 4,
 "nbformat_minor": 2
}
